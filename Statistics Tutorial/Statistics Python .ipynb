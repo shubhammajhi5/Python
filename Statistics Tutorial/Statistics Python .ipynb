{
 "cells": [
  {
   "cell_type": "code",
   "execution_count": 3,
   "id": "3a49acac",
   "metadata": {},
   "outputs": [
    {
     "data": {
      "text/plain": [
       "5.5"
      ]
     },
     "execution_count": 3,
     "metadata": {},
     "output_type": "execute_result"
    }
   ],
   "source": [
    "# mean\n",
    "\n",
    "import numpy as np\n",
    "\n",
    "\n",
    "values = [1,2,3,4,5,6,7,8,9,10]\n",
    "\n",
    "mean = np.mean(values)\n",
    "\n",
    "mean"
   ]
  },
  {
   "cell_type": "code",
   "execution_count": 9,
   "id": "810350ed",
   "metadata": {},
   "outputs": [
    {
     "name": "stdout",
     "output_type": "stream",
     "text": [
      "Median odd  : 42.0\n",
      "Median even : 41.0\n"
     ]
    }
   ],
   "source": [
    "# median\n",
    "\n",
    "values_odd = [13,21,21,40,42,48,55,72,84]\n",
    "\n",
    "median_odd = np.median(values_odd)\n",
    "\n",
    "print('Median odd  :', median_odd)\n",
    "\n",
    "\n",
    "\n",
    "values_even = [13,21,21,40,42,48,55,72]\n",
    "\n",
    "median_even = np.median(values_even)\n",
    "\n",
    "print('Median even :', median_even)"
   ]
  },
  {
   "cell_type": "code",
   "execution_count": 13,
   "id": "2428bb63",
   "metadata": {},
   "outputs": [
    {
     "data": {
      "text/plain": [
       "[7, 12]"
      ]
     },
     "execution_count": 13,
     "metadata": {},
     "output_type": "execute_result"
    }
   ],
   "source": [
    "# mode\n",
    "\n",
    "from statistics import multimode\n",
    "\n",
    "\n",
    "values = [4,7,3,8,11,7,10,19,6,9,12,12]\n",
    "\n",
    "mode = multimode(values)\n",
    "\n",
    "mode"
   ]
  },
  {
   "cell_type": "code",
   "execution_count": 17,
   "id": "093e40fc",
   "metadata": {},
   "outputs": [
    {
     "data": {
      "text/plain": [
       "59"
      ]
     },
     "execution_count": 17,
     "metadata": {},
     "output_type": "execute_result"
    }
   ],
   "source": [
    "# range \n",
    "\n",
    "values = [13,21,21,40,48,55,72]\n",
    "\n",
    "range = np.ptp(values)\n",
    "\n",
    "# range = max(values) - min(values)\n",
    "\n",
    "range"
   ]
  },
  {
   "cell_type": "code",
   "execution_count": 20,
   "id": "5b63acef",
   "metadata": {},
   "outputs": [
    {
     "data": {
      "text/plain": [
       "array([13.  , 21.  , 41.  , 49.75, 72.  ])"
      ]
     },
     "execution_count": 20,
     "metadata": {},
     "output_type": "execute_result"
    }
   ],
   "source": [
    "# quartile\n",
    "\n",
    "values = [13,21,21,40,42,48,55,72]\n",
    "\n",
    "quartiles = np.quantile(values, [0,0.25,0.5,0.75,1])\n",
    "\n",
    "quartiles"
   ]
  },
  {
   "cell_type": "code",
   "execution_count": 26,
   "id": "cb8ae4cd",
   "metadata": {},
   "outputs": [
    {
     "data": {
      "text/plain": [
       "49.75"
      ]
     },
     "execution_count": 26,
     "metadata": {},
     "output_type": "execute_result"
    }
   ],
   "source": [
    "# percentile\n",
    "\n",
    "values = [13,21,21,40,42,48,55,72]\n",
    "\n",
    "percentile = np.percentile(values, 75)\n",
    "\n",
    "percentile"
   ]
  },
  {
   "cell_type": "code",
   "execution_count": 28,
   "id": "ced25a56",
   "metadata": {},
   "outputs": [
    {
     "data": {
      "text/plain": [
       "28.75"
      ]
     },
     "execution_count": 28,
     "metadata": {},
     "output_type": "execute_result"
    }
   ],
   "source": [
    "# inter quartile range\n",
    "\n",
    "from scipy import stats\n",
    "\n",
    "\n",
    "values = [13,21,21,40,42,48,55,72]\n",
    "\n",
    "int_quar_range = stats.iqr(values)\n",
    "\n",
    "int_quar_range"
   ]
  },
  {
   "cell_type": "code",
   "execution_count": 32,
   "id": "f50f7ca1",
   "metadata": {},
   "outputs": [
    {
     "data": {
      "text/plain": [
       "3.8078865529319543"
      ]
     },
     "execution_count": 32,
     "metadata": {},
     "output_type": "execute_result"
    }
   ],
   "source": [
    "# population standard deviation\n",
    "\n",
    "values = [4,11,7,14]\n",
    "\n",
    "std_dev_pop = np.std(values)\n",
    "\n",
    "std_dev_pop"
   ]
  },
  {
   "cell_type": "code",
   "execution_count": 33,
   "id": "85c74a9f",
   "metadata": {},
   "outputs": [
    {
     "data": {
      "text/plain": [
       "4.396968652757639"
      ]
     },
     "execution_count": 33,
     "metadata": {},
     "output_type": "execute_result"
    }
   ],
   "source": [
    "# sample standard deviation\n",
    "\n",
    "values = [4,11,7,14]\n",
    "\n",
    "std_dev_sam = np.std(values, ddof = 1)\n",
    "\n",
    "std_dev_sam"
   ]
  },
  {
   "cell_type": "markdown",
   "id": "2496116b",
   "metadata": {},
   "source": [
    "## standard normal distribution / z distribution"
   ]
  },
  {
   "cell_type": "code",
   "execution_count": 2,
   "id": "aa437400",
   "metadata": {},
   "outputs": [
    {
     "data": {
      "text/plain": [
       "0.9986501019683699"
      ]
     },
     "execution_count": 2,
     "metadata": {},
     "output_type": "execute_result"
    }
   ],
   "source": [
    "# finding the p - value of a z - value\n",
    "\n",
    "# z = (x - μ) / σ\n",
    "\n",
    "\n",
    "from scipy import stats\n",
    "\n",
    "z = 3 \n",
    "stats.norm.cdf(z)"
   ]
  },
  {
   "cell_type": "code",
   "execution_count": 3,
   "id": "505f2e6d",
   "metadata": {},
   "outputs": [
    {
     "data": {
      "text/plain": [
       "1.2815515655446004"
      ]
     },
     "execution_count": 3,
     "metadata": {},
     "output_type": "execute_result"
    }
   ],
   "source": [
    "# finding the z - value of a p - value\n",
    "\n",
    "\n",
    "p = 0.9\n",
    "stats.norm.ppf(p)"
   ]
  },
  {
   "cell_type": "markdown",
   "id": "73166984",
   "metadata": {},
   "source": [
    "## t distribution"
   ]
  },
  {
   "cell_type": "code",
   "execution_count": 4,
   "id": "7886bf62",
   "metadata": {},
   "outputs": [
    {
     "data": {
      "text/plain": [
       "0.9777290209818548"
      ]
     },
     "execution_count": 4,
     "metadata": {},
     "output_type": "execute_result"
    }
   ],
   "source": [
    "# finding the p - value of a t - value and degree of freedom\n",
    "\n",
    "# degree of freedom (df) = n - 1         --> n = sample size\n",
    "\n",
    "\n",
    "from scipy import stats\n",
    "\n",
    "t = 2.1\n",
    "df = 29\n",
    "stats.t.cdf(t, df)"
   ]
  },
  {
   "cell_type": "code",
   "execution_count": 5,
   "id": "ed4b7f1b",
   "metadata": {},
   "outputs": [
    {
     "data": {
      "text/plain": [
       "0.6830438592467807"
      ]
     },
     "execution_count": 5,
     "metadata": {},
     "output_type": "execute_result"
    }
   ],
   "source": [
    "# finding the t - value of a p - value\n",
    "\n",
    "\n",
    "p = 0.75\n",
    "df = 29\n",
    "stats.t.ppf(p, df)"
   ]
  },
  {
   "cell_type": "markdown",
   "id": "e410b391",
   "metadata": {},
   "source": [
    "## Population Proportion Estimation"
   ]
  },
  {
   "cell_type": "code",
   "execution_count": 15,
   "id": "9235627b",
   "metadata": {},
   "outputs": [
    {
     "name": "stdout",
     "output_type": "stream",
     "text": [
      "Point Estimate:  0.200\n",
      "Critical Z-value:  1.960\n",
      "Margin of Error:  0.143\n",
      "Confidence Interval: [ 0.057 , 0.343 ]\n",
      "The 95.0% confidence interval for the population proportion is:\n",
      "between 0.0569 and 0.3431\n"
     ]
    }
   ],
   "source": [
    "from scipy import stats\n",
    "import math\n",
    "\n",
    "# Specify sample occurrences (x), sample size (n) and confidence level\n",
    "x = 6\n",
    "n = 30\n",
    "confidence_level = 0.95\n",
    "\n",
    "# Calculate the point estimate, alpha, the critical z-value, the standard error, and the margin of error\n",
    "point_estimate = x/n\n",
    "alpha = (1-confidence_level)\n",
    "critical_z = stats.norm.ppf(1-alpha/2)\n",
    "standard_error = math.sqrt((point_estimate*(1-point_estimate)/n))\n",
    "margin_of_error = critical_z * standard_error\n",
    "\n",
    "# Calculate the lower and upper bound of the confidence interval\n",
    "lower_bound = point_estimate - margin_of_error\n",
    "upper_bound = point_estimate + margin_of_error\n",
    "\n",
    "# Print the results\n",
    "print(\"Point Estimate: \", format(point_estimate, '.3f'))\n",
    "print(\"Critical Z-value: \", format(critical_z, '.3f'))\n",
    "print(\"Margin of Error: \", format(margin_of_error, '.3f'))\n",
    "print(\"Confidence Interval: [\", format(lower_bound, '.3f'), \",\", format(upper_bound, '.3f'), \"]\")\n",
    "print(\"The\", format(confidence_level, '.1%'), \"confidence interval for the population proportion is:\")\n",
    "print(\"between\", format(lower_bound, '.4f'), \"and\", format(upper_bound, '.4f'))"
   ]
  },
  {
   "cell_type": "markdown",
   "id": "0a2c5558",
   "metadata": {},
   "source": [
    "## Population Mean Estimation"
   ]
  },
  {
   "cell_type": "code",
   "execution_count": 16,
   "id": "22fc7103",
   "metadata": {},
   "outputs": [
    {
     "name": "stdout",
     "output_type": "stream",
     "text": [
      "Critical t-value:  2.045\n",
      "Margin of Error:  5.026\n",
      "Confidence Interval: [ 57.074 , 67.126 ]\n",
      "The 95.0% confidence interval for the population mean is:\n",
      "between 57.0740 and 67.1260\n"
     ]
    }
   ],
   "source": [
    "import scipy.stats as stats\n",
    "import math\n",
    "\n",
    "# Specify sample mean (x_bar), sample standard deviation (s), sample size (n) and confidence level\n",
    "x_bar = 62.1\n",
    "s = 13.46\n",
    "n = 30\n",
    "confidence_level = 0.95\n",
    "\n",
    "# Calculate alpha, degrees of freedom (df), the critical t-value, and the margin of error\n",
    "alpha = (1-confidence_level)\n",
    "df = n - 1\n",
    "standard_error = s/math.sqrt(n)\n",
    "critical_t = stats.t.ppf(1-alpha/2, df)\n",
    "margin_of_error = critical_t * standard_error\n",
    "\n",
    "# Calculate the lower and upper bound of the confidence interval\n",
    "lower_bound = x_bar - margin_of_error\n",
    "upper_bound = x_bar + margin_of_error\n",
    "\n",
    "# Print the results\n",
    "print(\"Critical t-value: \", format(critical_t, '.3f'))\n",
    "print(\"Margin of Error: \", format(margin_of_error, '.3f'))\n",
    "print(\"Confidence Interval: [\", format(lower_bound, '.3f'), \",\", format(upper_bound, '.3f'), \"]\")\n",
    "print(\"The\", format(confidence_level, '.1%'), \"confidence interval for the population mean is:\")\n",
    "print(\"between\", format(lower_bound, '.4f'), \"and\", format(upper_bound, '.4f'))"
   ]
  },
  {
   "cell_type": "markdown",
   "id": "7a30bb5d",
   "metadata": {},
   "source": [
    "## Hypothesis Testing Proportion"
   ]
  },
  {
   "cell_type": "code",
   "execution_count": 8,
   "id": "6f548c7f",
   "metadata": {},
   "outputs": [
    {
     "name": "stdout",
     "output_type": "stream",
     "text": [
      "0.7905694150420945\n"
     ]
    }
   ],
   "source": [
    "# finding the test statistic\n",
    "\n",
    "import scipy.stats as stats\n",
    "import math\n",
    "\n",
    "# Null hypothesis: 20% of Nobel Prize winners were born in the US.\n",
    "# H0 : p = 0.20\n",
    "\n",
    "# Alternative hypothesis: More than 20% of Nobel Prize winners were born in the US.\n",
    "# H1 : p > 0.20\n",
    "\n",
    "# Specify the number of occurrences (x), the sample size (n), and the proportion claimed in the null-hypothesis (p)\n",
    "x = 10\n",
    "n = 40\n",
    "p = 0.2\n",
    "\n",
    "# Calculate the sample proportion\n",
    "p_hat = x/n\n",
    "\n",
    "# Calculate and print the test statistic\n",
    "test_statistic = (p_hat-p)/(math.sqrt((p*(1-p))/(n)))\n",
    "print(test_statistic)"
   ]
  },
  {
   "cell_type": "markdown",
   "id": "85586b74",
   "metadata": {},
   "source": [
    "#### Critical Value Approach"
   ]
  },
  {
   "cell_type": "code",
   "execution_count": 6,
   "id": "5e953a61",
   "metadata": {},
   "outputs": [
    {
     "name": "stdout",
     "output_type": "stream",
     "text": [
      "1.6448536269514722\n"
     ]
    }
   ],
   "source": [
    "# finding the critical z - value\n",
    "\n",
    "import scipy.stats as stats\n",
    "\n",
    "z_critical = stats.norm.ppf(1-0.05)\n",
    "print(z_critical)"
   ]
  },
  {
   "cell_type": "code",
   "execution_count": 5,
   "id": "43ded0a4",
   "metadata": {},
   "outputs": [],
   "source": [
    "# since the alternative hypothesis states that proportion is greater than null hypothesis, it is a right tailed test\n",
    "\n",
    "# from above results it is clear that:\n",
    "#     test statistic (0.79) < critical z value (1.64) ie not lying in the rejection region of alpha = 0.05\n",
    "\n",
    "\n",
    "# Conclusions :\n",
    "    \n",
    "# 1) Since the test statistic was smaller than the critical value we do not reject the null hypothesis.\n",
    "\n",
    "# 2) This means that the sample data does not support the alternative hypothesis.\n",
    "\n",
    "# 3) And we can summarize the conclusion stating:\n",
    "#    The sample data does not support the claim that \"more than 20% of Nobel Prize winners were born in the US\" at a 5% significance level."
   ]
  },
  {
   "cell_type": "markdown",
   "id": "7f859341",
   "metadata": {},
   "source": [
    "#### P Value Approach"
   ]
  },
  {
   "cell_type": "code",
   "execution_count": 11,
   "id": "03e3b187",
   "metadata": {},
   "outputs": [
    {
     "name": "stdout",
     "output_type": "stream",
     "text": [
      "0.21459765022017474\n"
     ]
    }
   ],
   "source": [
    "# finding p value of the test statistic\n",
    "\n",
    "import scipy.stats as stats\n",
    "p_value = 1-stats.norm.cdf(test_statistic)\n",
    "print(p_value)"
   ]
  },
  {
   "cell_type": "code",
   "execution_count": null,
   "id": "a38b274b",
   "metadata": {},
   "outputs": [],
   "source": [
    "# This tells us that the significance level (alpha) would need to be bigger than 0.2145, or 21.45%, to reject the null hypothesis.\n",
    "\n",
    "# This P-value is bigger than any of the common significance levels (10%, 5%, 1%).\n",
    "\n",
    "# So the null hypothesis is kept at all of these significance levels.\n",
    "\n",
    "# And we can summarize the conclusion stating:\n",
    "# The sample data does not support the claim that \"more than 20% of Nobel Prize winners were born in the US\" at a 10%, 5%, or 1% significance level."
   ]
  },
  {
   "cell_type": "markdown",
   "id": "38b5b04f",
   "metadata": {},
   "source": [
    "### Calculating p value for a hypothesis test (right tailed test)"
   ]
  },
  {
   "cell_type": "code",
   "execution_count": 12,
   "id": "447beddd",
   "metadata": {},
   "outputs": [
    {
     "name": "stdout",
     "output_type": "stream",
     "text": [
      "0.21459765022017474\n"
     ]
    }
   ],
   "source": [
    "import scipy.stats as stats\n",
    "import math\n",
    "\n",
    "# Null hypothesis: 20% of Nobel Prize winners were born in the US.\n",
    "# H0 : p = 0.20\n",
    "\n",
    "# Alternative hypothesis: More than 20% of Nobel Prize winners were born in the US.\n",
    "# H1 : p > 0.20\n",
    "\n",
    "\n",
    "# Specify the number of occurrences (x), the sample size (n), and the proportion claimed in the null-hypothesis (p)\n",
    "x = 10\n",
    "n = 40\n",
    "p = 0.2\n",
    "\n",
    "# Calculate the sample proportion\n",
    "p_hat = x/n\n",
    "\n",
    "# Calculate the test statistic\n",
    "test_stat = (p_hat-p)/(math.sqrt((p*(1-p))/(n)))\n",
    "\n",
    "# Output the p-value of the test statistic (right tailed test)\n",
    "p_value = 1-stats.norm.cdf(test_stat)\n",
    "print(p_value)"
   ]
  },
  {
   "cell_type": "code",
   "execution_count": null,
   "id": "a120074a",
   "metadata": {},
   "outputs": [],
   "source": [
    "# This P-value is bigger than any of the common significance levels (10%, 5%, 1%).\n",
    "\n",
    "# So the null hypothesis is kept at all of these significance levels.\n",
    "\n",
    "# And we can summarize the conclusion stating:\n",
    "# The sample data does not support the claim that \"more than 20% of Nobel Prize winners were born in the US\" at a 10%, 5%, or 1% significance level."
   ]
  },
  {
   "cell_type": "markdown",
   "id": "57d14e72",
   "metadata": {},
   "source": [
    "### Calculating p value for a hypothesis test (left tailed test)"
   ]
  },
  {
   "cell_type": "code",
   "execution_count": 15,
   "id": "9e679dc3",
   "metadata": {},
   "outputs": [
    {
     "data": {
      "text/plain": [
       "0.005502076588434386"
      ]
     },
     "execution_count": 15,
     "metadata": {},
     "output_type": "execute_result"
    }
   ],
   "source": [
    "import scipy.stats as stats\n",
    "import math\n",
    "\n",
    "\n",
    "# Null hypothesis: 45% of Nobel Prize winners were born in the US.\n",
    "# H0 : p = 0.45\n",
    "\n",
    "# Alternative hypothesis: Less than 45% of Nobel Prize winners were born in the US.\n",
    "# H1 : p < 0.45\n",
    "   \n",
    "\n",
    "# Specify the number of occurences (x), the sample size (n), and the proportion claimed in the null-hypothesis (p)\n",
    "x = 10\n",
    "n = 40\n",
    "p = 0.45\n",
    "\n",
    "# Calculate the sample proportion\n",
    "p_hat = x/n\n",
    "\n",
    "# Calculate the test statistic\n",
    "test_stat = (p_hat-p)/(math.sqrt((p*(1-p))/(n)))\n",
    "\n",
    "# Output the p-value of the test statistic (left tailed test)\n",
    "p_value = stats.norm.cdf(test_stat)\n",
    "print(p_value)"
   ]
  },
  {
   "cell_type": "code",
   "execution_count": null,
   "id": "f667b377",
   "metadata": {},
   "outputs": [],
   "source": [
    "# This P-value is smaller than any of the common significance levels (10%, 5%, 1%).\n",
    "\n",
    "# So the null hypothesis is rejected at all of these significance levels.\n",
    "\n",
    "# And we can summarize the conclusion stating:\n",
    "# The sample data supports the claim that \"less than 45% of Nobel Prize winners were born in the US\" at a 10%, 5%, and 1% significance level."
   ]
  },
  {
   "cell_type": "markdown",
   "id": "02d0ced3",
   "metadata": {},
   "source": [
    "### Calculating p value for a hypothesis test (two tailed test)"
   ]
  },
  {
   "cell_type": "code",
   "execution_count": 17,
   "id": "182446f8",
   "metadata": {},
   "outputs": [
    {
     "name": "stdout",
     "output_type": "stream",
     "text": [
      "1.244192114854348e-15\n"
     ]
    }
   ],
   "source": [
    "# Null hypothesis: 50% of Nobel Prize winners were women.\n",
    "# H0 : p = 0.50\n",
    "    \n",
    "# Alternative hypothesis: The share of Nobel Prize winners that are women is not 50%\n",
    "# H1 : p != 0.50\n",
    "\n",
    "import scipy.stats as stats\n",
    "import math\n",
    "\n",
    "# Specify the number of occurrences (x), the sample size (n), and the proportion claimed in the null-hypothesis (p)\n",
    "x = 10\n",
    "n = 100\n",
    "p = 0.5\n",
    "\n",
    "# Calculate the sample proportion\n",
    "p_hat = x/n\n",
    "\n",
    "# Calculate the test statistic\n",
    "test_stat = (p_hat-p)/(math.sqrt((p*(1-p))/(n)))\n",
    "\n",
    "# Output the p-value of the test statistic (two-tailed test)\n",
    "p_value = 2*stats.norm.cdf(test_stat)\n",
    "print(p_value)"
   ]
  },
  {
   "cell_type": "code",
   "execution_count": null,
   "id": "61a11a21",
   "metadata": {},
   "outputs": [],
   "source": [
    "# This P-value is smaller than any of the common significance levels (10%, 5%, 1%).\n",
    "\n",
    "# So the null hypothesis is rejected at all of these significance levels.\n",
    "\n",
    "# And we can summarize the conclusion stating:\n",
    "# The sample data supports the claim that \"The share of Nobel Prize winners that are women is not 50%\" at a 10%, 5%, and 1% significance level."
   ]
  },
  {
   "cell_type": "markdown",
   "id": "fdd73550",
   "metadata": {},
   "source": [
    "## Hypothesis Testing Mean"
   ]
  },
  {
   "cell_type": "code",
   "execution_count": 1,
   "id": "85e9a48e",
   "metadata": {},
   "outputs": [
    {
     "name": "stdout",
     "output_type": "stream",
     "text": [
      "2.8891754519217536\n"
     ]
    }
   ],
   "source": [
    "# finding the test statistic\n",
    "\n",
    "# Null hypothesis: The average age was 55.\n",
    "# H0 : μ = 55\n",
    "\n",
    "# Alternative hypothesis: The average age was more than 55.\n",
    "# H1 : μ > 55\n",
    "\n",
    "\n",
    "import scipy.stats as stats\n",
    "import math\n",
    "\n",
    "# Specify the sample mean (x_bar), the sample standard deviation (s), the mean claimed in the null-hypothesis (mu_null), and the sample size (n)\n",
    "x_bar = 62.1\n",
    "s = 13.46\n",
    "mu_null = 55\n",
    "n = 30\n",
    "\n",
    "# Calculate and print the test statistic\n",
    "test_statistic = (x_bar - mu_null)/(s/math.sqrt(n))\n",
    "print(test_statistic)"
   ]
  },
  {
   "cell_type": "markdown",
   "id": "5739f0e6",
   "metadata": {},
   "source": [
    "#### Critical Value Approach"
   ]
  },
  {
   "cell_type": "code",
   "execution_count": 2,
   "id": "608a537d",
   "metadata": {},
   "outputs": [
    {
     "name": "stdout",
     "output_type": "stream",
     "text": [
      "2.4620213601503833\n"
     ]
    }
   ],
   "source": [
    "# finding the critical t - value \n",
    "\n",
    "import scipy.stats as stats\n",
    "t_critical = stats.t.ppf(1-0.01, 29)\n",
    "print(t_critical)"
   ]
  },
  {
   "cell_type": "code",
   "execution_count": 3,
   "id": "3c608275",
   "metadata": {},
   "outputs": [],
   "source": [
    "# since the alternative hypothesis states that mean is greater than null hypothesis, it is a right tailed test\n",
    "\n",
    "# from above results it is clear that:\n",
    "#     test statistic (2.889) > critical t value (2.462) ie lying in the rejection region of alpha = 0.01\n",
    "\n",
    "\n",
    "# Conclusions :\n",
    "    \n",
    "# 1) Since the test statistic was bigger than the critical value we reject the null hypothesis.\n",
    "\n",
    "# 2) This means that the sample data supports the alternative hypothesis.\n",
    "\n",
    "# 3) And we can summarize the conclusion stating:\n",
    "    # The sample data supports the claim that \"The average age of Nobel Prize winners when they received the prize is more than 55\" at a 1% significance level."
   ]
  },
  {
   "cell_type": "markdown",
   "id": "f96bd3f6",
   "metadata": {},
   "source": [
    "#### P Value Approach"
   ]
  },
  {
   "cell_type": "code",
   "execution_count": 5,
   "id": "a927c453",
   "metadata": {},
   "outputs": [
    {
     "name": "stdout",
     "output_type": "stream",
     "text": [
      "0.0036182783769481697\n"
     ]
    }
   ],
   "source": [
    "# finding p value of the test statistic\n",
    "\n",
    "import scipy.stats as stats\n",
    "p_value = 1-stats.t.cdf(test_statistic, 29)\n",
    "print(p_value)"
   ]
  },
  {
   "cell_type": "code",
   "execution_count": 6,
   "id": "d6569e0d",
   "metadata": {},
   "outputs": [],
   "source": [
    "# This P-value is smaller than any of the common significance levels (10%, 5%, 1%).\n",
    "\n",
    "# So the null hypothesis is rejected at all of these significance levels.\n",
    "\n",
    "# And we can summarize the conclusion stating:\n",
    "# The sample data supports the claim that \"The average age of Nobel Prize winners when they received the prize is more than 55\" at a 10%, 5%, or 1% significance level."
   ]
  },
  {
   "cell_type": "markdown",
   "id": "ab365a6d",
   "metadata": {},
   "source": [
    "### Calculating p value for a hypothesis test (right tailed test)"
   ]
  },
  {
   "cell_type": "code",
   "execution_count": 7,
   "id": "767edc83",
   "metadata": {},
   "outputs": [
    {
     "name": "stdout",
     "output_type": "stream",
     "text": [
      "0.0036182783769481697\n"
     ]
    }
   ],
   "source": [
    "import scipy.stats as stats\n",
    "import math\n",
    "\n",
    "\n",
    "# Null hypothesis: The average age was 55.\n",
    "# H0 : μ = 55\n",
    "\n",
    "# Alternative hypothesis: The average age was more than 55.\n",
    "# H1 : μ > 55\n",
    "\n",
    "\n",
    "# Specify the sample mean (x_bar), the sample standard deviation (s), the mean claimed in the null-hypothesis (mu_null), and the sample size (n)\n",
    "x_bar = 62.1\n",
    "s = 13.46\n",
    "mu_null = 55\n",
    "n = 30\n",
    "\n",
    "# Calculate the test statistic\n",
    "test_stat = (x_bar - mu_null)/(s/math.sqrt(n))\n",
    "\n",
    "# Output the p-value of the test statistic (right tailed test)\n",
    "p_value = 1-stats.t.cdf(test_stat, n-1)\n",
    "print(p_value)"
   ]
  },
  {
   "cell_type": "code",
   "execution_count": 8,
   "id": "2911a0e5",
   "metadata": {},
   "outputs": [],
   "source": [
    "# This P-value is smaller than any of the common significance levels (10%, 5%, 1%).\n",
    "\n",
    "# So the null hypothesis is rejected at all of these significance levels.\n",
    "\n",
    "# And we can summarize the conclusion stating:\n",
    "# The sample data supports the claim that \"The average age of Nobel Prize winners when they received the prize is more than 55\" at a 10%, 5%, or 1% significance level."
   ]
  },
  {
   "cell_type": "markdown",
   "id": "2a263a2e",
   "metadata": {},
   "source": [
    "### Calculating p value for a hypothesis test (left tailed test)"
   ]
  },
  {
   "cell_type": "code",
   "execution_count": 9,
   "id": "99314c2b",
   "metadata": {},
   "outputs": [
    {
     "name": "stdout",
     "output_type": "stream",
     "text": [
      "0.8000961247260316\n"
     ]
    }
   ],
   "source": [
    "# Null hypothesis: The average age was 60.\n",
    "# H0 : μ = 60\n",
    "\n",
    "# Alternative hypothesis: The average age was less than 60.\n",
    "# H1 : μ < 60 \n",
    "\n",
    "\n",
    "import scipy.stats as stats\n",
    "import math\n",
    "\n",
    "# Specify the sample mean (x_bar), the sample standard deviation (s), the mean claimed in the null-hypothesis (mu_null), and the sample size (n)\n",
    "x_bar = 62.1\n",
    "s = 13.46\n",
    "mu_null = 60\n",
    "n = 30\n",
    "\n",
    "# Calculate the test statistic\n",
    "test_stat = (x_bar - mu_null)/(s/math.sqrt(n))\n",
    "\n",
    "# Output the p-value of the test statistic (left tailed test)\n",
    "p_value = stats.t.cdf(test_stat, n-1)\n",
    "print(p_value)"
   ]
  },
  {
   "cell_type": "code",
   "execution_count": null,
   "id": "681f79ea",
   "metadata": {},
   "outputs": [],
   "source": [
    "# This P-value is far bigger than any of the common significance levels (10%, 5%, 1%).\n",
    "\n",
    "# So the null hypothesis is kept at all of these significance levels.\n",
    "\n",
    "# And we can summarize the conclusion stating:\n",
    "#     The sample data does not support the claim that \"The average age of Nobel Prize winners when they received the prize is less than 60\" at a 10%, 5%, or 1% significance level."
   ]
  },
  {
   "cell_type": "markdown",
   "id": "b9614a4e",
   "metadata": {},
   "source": [
    "### Calculating p value for a hypothesis test (two tailed test)"
   ]
  },
  {
   "cell_type": "code",
   "execution_count": 10,
   "id": "40e80573",
   "metadata": {},
   "outputs": [
    {
     "name": "stdout",
     "output_type": "stream",
     "text": [
      "0.3998077505479367\n"
     ]
    }
   ],
   "source": [
    "# Null hypothesis: The average age was 60.\n",
    "# H0 : μ = 60\n",
    "\n",
    "# Alternative hypothesis: The average age is not 60.\n",
    "# H1 : μ != 60 \n",
    "    \n",
    "\n",
    "import scipy.stats as stats\n",
    "import math\n",
    "\n",
    "# Specify the sample mean (x_bar), the sample standard deviation (s), the mean claimed in the null-hypothesis (mu_null), and the sample size (n)\n",
    "x_bar = 62.1\n",
    "s = 13.46\n",
    "mu_null = 60\n",
    "n = 30\n",
    "\n",
    "# Calculate the test statistic\n",
    "test_stat = (x_bar - mu_null)/(s/math.sqrt(n))\n",
    "\n",
    "# Output the p-value of the test statistic (two tailed test)\n",
    "print(2*(1-stats.t.cdf(test_stat, n-1)))"
   ]
  },
  {
   "cell_type": "code",
   "execution_count": null,
   "id": "74bb76e9",
   "metadata": {},
   "outputs": [],
   "source": [
    "# This P-value is bigger than any of the common significance levels (10%, 5%, 1%).\n",
    "\n",
    "# So the null hypothesis is kept at all of these significance levels.\n",
    "\n",
    "# And we can summarize the conclusion stating:\n",
    "#     The sample data does not support the claim that \"The average age of Nobel Prize winners when they received the prize is not 60\" at a 10%, 5%, or 1% significance level."
   ]
  },
  {
   "cell_type": "code",
   "execution_count": null,
   "id": "140204ef",
   "metadata": {},
   "outputs": [],
   "source": []
  }
 ],
 "metadata": {
  "kernelspec": {
   "display_name": "Python 3 (ipykernel)",
   "language": "python",
   "name": "python3"
  },
  "language_info": {
   "codemirror_mode": {
    "name": "ipython",
    "version": 3
   },
   "file_extension": ".py",
   "mimetype": "text/x-python",
   "name": "python",
   "nbconvert_exporter": "python",
   "pygments_lexer": "ipython3",
   "version": "3.10.2"
  }
 },
 "nbformat": 4,
 "nbformat_minor": 5
}
