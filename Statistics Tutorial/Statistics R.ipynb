{
 "cells": [
  {
   "cell_type": "code",
   "execution_count": 3,
   "id": "70193297",
   "metadata": {},
   "outputs": [
    {
     "data": {
      "text/html": [
       "5.5"
      ],
      "text/latex": [
       "5.5"
      ],
      "text/markdown": [
       "5.5"
      ],
      "text/plain": [
       "[1] 5.5"
      ]
     },
     "metadata": {},
     "output_type": "display_data"
    }
   ],
   "source": [
    "# mean\n",
    "\n",
    "values <- c(1,2,3,4,5,6,7,8,9,10)\n",
    "\n",
    "mean(values)"
   ]
  },
  {
   "cell_type": "code",
   "execution_count": 10,
   "id": "b9b32284",
   "metadata": {},
   "outputs": [
    {
     "name": "stdout",
     "output_type": "stream",
     "text": [
      "[1] \"Median odd   : 42\"\n",
      "[1] \"Median even  : 41\"\n"
     ]
    }
   ],
   "source": [
    "# median\n",
    "\n",
    "values_odd <- c(13,21,21,40,42,48,55,72,84)\n",
    "\n",
    "print(paste(\"Median odd   :\", median(values_odd)))\n",
    "# cat(\"Median odd  :\", median(values_odd))\n",
    "\n",
    "values_even <- c(13,21,21,40,42,48,55,72)\n",
    "\n",
    "print(paste(\"Median even  :\", median(values_even)))\n",
    "# cat(\"Median even  :\", median(values_even))"
   ]
  },
  {
   "cell_type": "code",
   "execution_count": 14,
   "id": "9eb2e243",
   "metadata": {},
   "outputs": [
    {
     "data": {
      "text/html": [
       "<style>\n",
       ".list-inline {list-style: none; margin:0; padding: 0}\n",
       ".list-inline>li {display: inline-block}\n",
       ".list-inline>li:not(:last-child)::after {content: \"\\00b7\"; padding: 0 .5ex}\n",
       "</style>\n",
       "<ol class=list-inline><li>7</li><li>12</li></ol>\n"
      ],
      "text/latex": [
       "\\begin{enumerate*}\n",
       "\\item 7\n",
       "\\item 12\n",
       "\\end{enumerate*}\n"
      ],
      "text/markdown": [
       "1. 7\n",
       "2. 12\n",
       "\n",
       "\n"
      ],
      "text/plain": [
       "[1]  7 12"
      ]
     },
     "metadata": {},
     "output_type": "display_data"
    }
   ],
   "source": [
    "# mode\n",
    "\n",
    "mode <- function(x) {\n",
    "  unique_values <- unique(x)\n",
    "  table <- tabulate(match(x, unique_values))\n",
    "  unique_values[table == max(table)]\n",
    "}\n",
    "\n",
    "values <- c(4,7,3,8,11,7,10,19,6,9,12,12)\n",
    "\n",
    "mode(values)"
   ]
  },
  {
   "cell_type": "code",
   "execution_count": 15,
   "id": "fb88a867",
   "metadata": {},
   "outputs": [
    {
     "data": {
      "text/html": [
       "59"
      ],
      "text/latex": [
       "59"
      ],
      "text/markdown": [
       "59"
      ],
      "text/plain": [
       "[1] 59"
      ]
     },
     "metadata": {},
     "output_type": "display_data"
    }
   ],
   "source": [
    "# range\n",
    "\n",
    "values <- c(13,21,21,40,48,55,72)\n",
    "\n",
    "range <- max(values) - min(values)\n",
    "\n",
    "range"
   ]
  },
  {
   "cell_type": "code",
   "execution_count": 16,
   "id": "b16707ff",
   "metadata": {},
   "outputs": [
    {
     "data": {
      "text/html": [
       "<style>\n",
       ".dl-inline {width: auto; margin:0; padding: 0}\n",
       ".dl-inline>dt, .dl-inline>dd {float: none; width: auto; display: inline-block}\n",
       ".dl-inline>dt::after {content: \":\\0020\"; padding-right: .5ex}\n",
       ".dl-inline>dt:not(:first-of-type) {padding-left: .5ex}\n",
       "</style><dl class=dl-inline><dt>0%</dt><dd>13</dd><dt>25%</dt><dd>21</dd><dt>50%</dt><dd>41</dd><dt>75%</dt><dd>49.75</dd><dt>100%</dt><dd>72</dd></dl>\n"
      ],
      "text/latex": [
       "\\begin{description*}\n",
       "\\item[0\\textbackslash{}\\%] 13\n",
       "\\item[25\\textbackslash{}\\%] 21\n",
       "\\item[50\\textbackslash{}\\%] 41\n",
       "\\item[75\\textbackslash{}\\%] 49.75\n",
       "\\item[100\\textbackslash{}\\%] 72\n",
       "\\end{description*}\n"
      ],
      "text/markdown": [
       "0%\n",
       ":   1325%\n",
       ":   2150%\n",
       ":   4175%\n",
       ":   49.75100%\n",
       ":   72\n",
       "\n"
      ],
      "text/plain": [
       "   0%   25%   50%   75%  100% \n",
       "13.00 21.00 41.00 49.75 72.00 "
      ]
     },
     "metadata": {},
     "output_type": "display_data"
    }
   ],
   "source": [
    "# quarties\n",
    "\n",
    "values <- c(13,21,21,40,42,48,55,72)\n",
    "\n",
    "quantile(values)"
   ]
  },
  {
   "cell_type": "code",
   "execution_count": 17,
   "id": "5041bf1b",
   "metadata": {},
   "outputs": [
    {
     "data": {
      "text/html": [
       "<strong>75%:</strong> 49.75"
      ],
      "text/latex": [
       "\\textbf{75\\textbackslash{}\\%:} 49.75"
      ],
      "text/markdown": [
       "**75%:** 49.75"
      ],
      "text/plain": [
       "  75% \n",
       "49.75 "
      ]
     },
     "metadata": {},
     "output_type": "display_data"
    }
   ],
   "source": [
    "# percentile\n",
    "\n",
    "values <- c(13,21,21,40,42,48,55,72)\n",
    "\n",
    "quantile(values, 0.75)"
   ]
  },
  {
   "cell_type": "code",
   "execution_count": 18,
   "id": "dcc1021a",
   "metadata": {},
   "outputs": [
    {
     "data": {
      "text/html": [
       "28.75"
      ],
      "text/latex": [
       "28.75"
      ],
      "text/markdown": [
       "28.75"
      ],
      "text/plain": [
       "[1] 28.75"
      ]
     },
     "metadata": {},
     "output_type": "display_data"
    }
   ],
   "source": [
    "# inter quartile range\n",
    "\n",
    "values <- c(13,21,21,40,42,48,55,72)\n",
    "\n",
    "IQR(values)"
   ]
  },
  {
   "cell_type": "code",
   "execution_count": 19,
   "id": "f98a07f7",
   "metadata": {},
   "outputs": [
    {
     "data": {
      "text/html": [
       "3.80788655293195"
      ],
      "text/latex": [
       "3.80788655293195"
      ],
      "text/markdown": [
       "3.80788655293195"
      ],
      "text/plain": [
       "[1] 3.807887"
      ]
     },
     "metadata": {},
     "output_type": "display_data"
    }
   ],
   "source": [
    "# population standard deviation\n",
    "\n",
    "values <- c(4,7,11,14)\n",
    "\n",
    "sqrt(mean((values-mean(values))^2))"
   ]
  },
  {
   "cell_type": "code",
   "execution_count": 20,
   "id": "0c89a29c",
   "metadata": {},
   "outputs": [
    {
     "data": {
      "text/html": [
       "4.39696865275764"
      ],
      "text/latex": [
       "4.39696865275764"
      ],
      "text/markdown": [
       "4.39696865275764"
      ],
      "text/plain": [
       "[1] 4.396969"
      ]
     },
     "metadata": {},
     "output_type": "display_data"
    }
   ],
   "source": [
    "# sample standard deviation\n",
    "\n",
    "values <- c(4,7,11,14)\n",
    "\n",
    "sd(values)"
   ]
  },
  {
   "cell_type": "markdown",
   "id": "971ac536",
   "metadata": {},
   "source": [
    "## standard normal distribution / z distribution"
   ]
  },
  {
   "cell_type": "code",
   "execution_count": 1,
   "id": "eebcc09e",
   "metadata": {},
   "outputs": [
    {
     "data": {
      "text/html": [
       "0.99865010196837"
      ],
      "text/latex": [
       "0.99865010196837"
      ],
      "text/markdown": [
       "0.99865010196837"
      ],
      "text/plain": [
       "[1] 0.9986501"
      ]
     },
     "metadata": {},
     "output_type": "display_data"
    }
   ],
   "source": [
    "# finding the p - value of a z - value\n",
    "\n",
    "# z = (x - μ) / σ\n",
    "\n",
    "z <- 3\n",
    "pnorm(z)"
   ]
  },
  {
   "cell_type": "code",
   "execution_count": 3,
   "id": "bc82d40f",
   "metadata": {},
   "outputs": [
    {
     "data": {
      "text/html": [
       "1.2815515655446"
      ],
      "text/latex": [
       "1.2815515655446"
      ],
      "text/markdown": [
       "1.2815515655446"
      ],
      "text/plain": [
       "[1] 1.281552"
      ]
     },
     "metadata": {},
     "output_type": "display_data"
    }
   ],
   "source": [
    "# finding the z - value of a p - value\n",
    "\n",
    "p <- 0.9\n",
    "qnorm(p)"
   ]
  },
  {
   "cell_type": "markdown",
   "id": "1ced4d8c",
   "metadata": {},
   "source": [
    "## t distribution"
   ]
  },
  {
   "cell_type": "code",
   "execution_count": 4,
   "id": "b3ff6fcf",
   "metadata": {},
   "outputs": [
    {
     "data": {
      "text/html": [
       "0.977729020981855"
      ],
      "text/latex": [
       "0.977729020981855"
      ],
      "text/markdown": [
       "0.977729020981855"
      ],
      "text/plain": [
       "[1] 0.977729"
      ]
     },
     "metadata": {},
     "output_type": "display_data"
    }
   ],
   "source": [
    "# finding the p - value of a t - value and degree of freedom\n",
    "\n",
    "# degree of freedom (df) = n - 1         --> n = sample size\n",
    "\n",
    "\n",
    "t <- 2.1\n",
    "df <- 29\n",
    "\n",
    "pt(t, df)"
   ]
  },
  {
   "cell_type": "code",
   "execution_count": 5,
   "id": "b25bf30d",
   "metadata": {},
   "outputs": [
    {
     "data": {
      "text/html": [
       "0.683043860821613"
      ],
      "text/latex": [
       "0.683043860821613"
      ],
      "text/markdown": [
       "0.683043860821613"
      ],
      "text/plain": [
       "[1] 0.6830439"
      ]
     },
     "metadata": {},
     "output_type": "display_data"
    }
   ],
   "source": [
    "# finding the t - value of a p - value\n",
    "\n",
    "\n",
    "p <- 0.75\n",
    "df <- 29\n",
    "qt(p, df)"
   ]
  },
  {
   "cell_type": "markdown",
   "id": "cd6f08c4",
   "metadata": {},
   "source": [
    "## Population Proportion Estimation"
   ]
  },
  {
   "cell_type": "code",
   "execution_count": 2,
   "id": "cee5ff82",
   "metadata": {},
   "outputs": [
    {
     "data": {
      "text/html": [
       "'Point Estimate: 0.200'"
      ],
      "text/latex": [
       "'Point Estimate: 0.200'"
      ],
      "text/markdown": [
       "'Point Estimate: 0.200'"
      ],
      "text/plain": [
       "[1] \"Point Estimate: 0.200\""
      ]
     },
     "metadata": {},
     "output_type": "display_data"
    },
    {
     "data": {
      "text/html": [
       "'Critical Z-value: 1.960'"
      ],
      "text/latex": [
       "'Critical Z-value: 1.960'"
      ],
      "text/markdown": [
       "'Critical Z-value: 1.960'"
      ],
      "text/plain": [
       "[1] \"Critical Z-value: 1.960\""
      ]
     },
     "metadata": {},
     "output_type": "display_data"
    },
    {
     "data": {
      "text/html": [
       "'Margin of Error: 0.143'"
      ],
      "text/latex": [
       "'Margin of Error: 0.143'"
      ],
      "text/markdown": [
       "'Margin of Error: 0.143'"
      ],
      "text/plain": [
       "[1] \"Margin of Error: 0.143\""
      ]
     },
     "metadata": {},
     "output_type": "display_data"
    },
    {
     "data": {
      "text/html": [
       "'Confidence Interval: [0.057,0.343]'"
      ],
      "text/latex": [
       "'Confidence Interval: {[}0.057,0.343{]}'"
      ],
      "text/markdown": [
       "'Confidence Interval: [0.057,0.343]'"
      ],
      "text/plain": [
       "[1] \"Confidence Interval: [0.057,0.343]\""
      ]
     },
     "metadata": {},
     "output_type": "display_data"
    },
    {
     "data": {
      "text/html": [
       "'The 95.0% confidence interval for the population proportion is:'"
      ],
      "text/latex": [
       "'The 95.0\\% confidence interval for the population proportion is:'"
      ],
      "text/markdown": [
       "'The 95.0% confidence interval for the population proportion is:'"
      ],
      "text/plain": [
       "[1] \"The 95.0% confidence interval for the population proportion is:\""
      ]
     },
     "metadata": {},
     "output_type": "display_data"
    },
    {
     "data": {
      "text/html": [
       "'between 0.0569 and 0.3431'"
      ],
      "text/latex": [
       "'between 0.0569 and 0.3431'"
      ],
      "text/markdown": [
       "'between 0.0569 and 0.3431'"
      ],
      "text/plain": [
       "[1] \"between 0.0569 and 0.3431\""
      ]
     },
     "metadata": {},
     "output_type": "display_data"
    }
   ],
   "source": [
    "# Specify sample occurrences (x), sample size (n) and confidence level\n",
    "x <- 6\n",
    "n <- 30\n",
    "confidence_level <- 0.95\n",
    "\n",
    "# Calculate the point estimate, alpha, the critical z-value, the standard error, and the margin of error\n",
    "point_estimate <- x/n\n",
    "alpha <- (1-confidence_level)\n",
    "critical_z <- qnorm(1-alpha/2)\n",
    "standard_error <- sqrt(point_estimate*(1-point_estimate)/n)\n",
    "margin_of_error <- critical_z * standard_error\n",
    "\n",
    "# Calculate the lower and upper bound of the confidence interval\n",
    "lower_bound <- point_estimate - margin_of_error\n",
    "upper_bound <- point_estimate + margin_of_error\n",
    "\n",
    "# Print the results\n",
    "sprintf(\"Point Estimate: %0.3f\", point_estimate)\n",
    "sprintf(\"Critical Z-value: %0.3f\", critical_z)\n",
    "sprintf(\"Margin of Error: %0.3f\", margin_of_error)\n",
    "sprintf(\"Confidence Interval: [%0.3f,%0.3f]\", lower_bound, upper_bound)\n",
    "sprintf(\"The %0.1f%% confidence interval for the population proportion is:\", confidence_level*100)\n",
    "sprintf(\"between %0.4f and %0.4f\", lower_bound, upper_bound)"
   ]
  },
  {
   "cell_type": "markdown",
   "id": "08ade894",
   "metadata": {},
   "source": [
    "## Population Mean Estimation"
   ]
  },
  {
   "cell_type": "code",
   "execution_count": 3,
   "id": "d745c460",
   "metadata": {},
   "outputs": [
    {
     "data": {
      "text/html": [
       "'Critical t-value: 2.045'"
      ],
      "text/latex": [
       "'Critical t-value: 2.045'"
      ],
      "text/markdown": [
       "'Critical t-value: 2.045'"
      ],
      "text/plain": [
       "[1] \"Critical t-value: 2.045\""
      ]
     },
     "metadata": {},
     "output_type": "display_data"
    },
    {
     "data": {
      "text/html": [
       "'Margin of Error: 5.026'"
      ],
      "text/latex": [
       "'Margin of Error: 5.026'"
      ],
      "text/markdown": [
       "'Margin of Error: 5.026'"
      ],
      "text/plain": [
       "[1] \"Margin of Error: 5.026\""
      ]
     },
     "metadata": {},
     "output_type": "display_data"
    },
    {
     "data": {
      "text/html": [
       "'Confidence Interval: [57.074,67.126]'"
      ],
      "text/latex": [
       "'Confidence Interval: {[}57.074,67.126{]}'"
      ],
      "text/markdown": [
       "'Confidence Interval: [57.074,67.126]'"
      ],
      "text/plain": [
       "[1] \"Confidence Interval: [57.074,67.126]\""
      ]
     },
     "metadata": {},
     "output_type": "display_data"
    },
    {
     "data": {
      "text/html": [
       "'The 95.0% confidence interval for the population mean is:'"
      ],
      "text/latex": [
       "'The 95.0\\% confidence interval for the population mean is:'"
      ],
      "text/markdown": [
       "'The 95.0% confidence interval for the population mean is:'"
      ],
      "text/plain": [
       "[1] \"The 95.0% confidence interval for the population mean is:\""
      ]
     },
     "metadata": {},
     "output_type": "display_data"
    },
    {
     "data": {
      "text/html": [
       "'between 57.0740 and 67.1260'"
      ],
      "text/latex": [
       "'between 57.0740 and 67.1260'"
      ],
      "text/markdown": [
       "'between 57.0740 and 67.1260'"
      ],
      "text/plain": [
       "[1] \"between 57.0740 and 67.1260\""
      ]
     },
     "metadata": {},
     "output_type": "display_data"
    }
   ],
   "source": [
    "# Specify sample mean (x_bar), sample standard deviation (s), sample size (n) and confidence level\n",
    "x_bar <- 62.1\n",
    "s <- 13.46\n",
    "n <- 30\n",
    "confidence_level <- 0.95\n",
    "\n",
    "# Calculate alpha, degrees of freedom (df), the critical t-value, and the margin of error\n",
    "alpha <- (1-confidence_level)\n",
    "df <- n - 1\n",
    "standard_error <- s/sqrt(n)\n",
    "critical_t <- qt(1-alpha/2, 29)\n",
    "margin_of_error <- critical_t * standard_error\n",
    "\n",
    "# Calculate the lower and upper bound of the confidence interval\n",
    "lower_bound <- x_bar - margin_of_error\n",
    "upper_bound <- x_bar + margin_of_error\n",
    "\n",
    "# Print the results\n",
    "sprintf(\"Critical t-value: %0.3f\", critical_t)\n",
    "sprintf(\"Margin of Error: %0.3f\", margin_of_error)\n",
    "sprintf(\"Confidence Interval: [%0.3f,%0.3f]\", lower_bound, upper_bound)\n",
    "sprintf(\"The %0.1f%% confidence interval for the population mean is:\", confidence_level*100)\n",
    "sprintf(\"between %0.4f and %0.4f\", lower_bound, upper_bound)"
   ]
  },
  {
   "cell_type": "markdown",
   "id": "7fceef52",
   "metadata": {},
   "source": [
    "## Hypothesis Testing Proportion"
   ]
  },
  {
   "cell_type": "code",
   "execution_count": 7,
   "id": "4034b465",
   "metadata": {},
   "outputs": [
    {
     "data": {
      "text/html": [
       "0.790569415042095"
      ],
      "text/latex": [
       "0.790569415042095"
      ],
      "text/markdown": [
       "0.790569415042095"
      ],
      "text/plain": [
       "[1] 0.7905694"
      ]
     },
     "metadata": {},
     "output_type": "display_data"
    }
   ],
   "source": [
    "# finding the test statistic\n",
    "\n",
    "# Null hypothesis: 20% of Nobel Prize winners were born in the US.\n",
    "# H0 : p = 0.20\n",
    "\n",
    "# Alternative hypothesis: More than 20% of Nobel Prize winners were born in the US.\n",
    "# H1 : p > 0.20\n",
    "\n",
    "\n",
    "# Specify the sample occurrences (x), the sample size (n), and the null-hypothesis claim (p)\n",
    "x <- 10\n",
    "n <- 40\n",
    "p <- 0.20\n",
    "\n",
    "# Calculate the sample proportion\n",
    "p_hat = x/n\n",
    "\n",
    "# Calculate and print the test statistic\n",
    "test_statistic <- (p_hat-p)/(sqrt((p*(1-p))/(n)))\n",
    "test_statistic"
   ]
  },
  {
   "cell_type": "markdown",
   "id": "0d48ebbe",
   "metadata": {},
   "source": [
    "#### Critical Value Approach"
   ]
  },
  {
   "cell_type": "code",
   "execution_count": 6,
   "id": "cbbdc791",
   "metadata": {},
   "outputs": [
    {
     "data": {
      "text/html": [
       "1.64485362695147"
      ],
      "text/latex": [
       "1.64485362695147"
      ],
      "text/markdown": [
       "1.64485362695147"
      ],
      "text/plain": [
       "[1] 1.644854"
      ]
     },
     "metadata": {},
     "output_type": "display_data"
    }
   ],
   "source": [
    "# finding the critical z - value\n",
    "\n",
    "z_critical <- qnorm(1-0.05)\n",
    "z_critical"
   ]
  },
  {
   "cell_type": "code",
   "execution_count": 4,
   "id": "10a0ab84",
   "metadata": {},
   "outputs": [],
   "source": [
    "# since the alternative hypothesis states that proportion is greater than null hypothesis, it is a right tailed test\n",
    "\n",
    "# from above results it is clear that:\n",
    "#     test statistic (0.79) < critical z value (1.64) ie not lying in the rejection region of alpha = 0.05\n",
    "\n",
    "\n",
    "# Conclusions :\n",
    "    \n",
    "# 1) Since the test statistic was smaller than the critical value we do not reject the null hypothesis.\n",
    "\n",
    "# 2) This means that the sample data does not support the alternative hypothesis.\n",
    "\n",
    "# 3) And we can summarize the conclusion stating:\n",
    "#    The sample data does not support the claim that \"more than 20% of Nobel Prize winners were born in the US\" at a 5% significance level."
   ]
  },
  {
   "cell_type": "markdown",
   "id": "6ab8b077",
   "metadata": {},
   "source": [
    "#### P Value Approach"
   ]
  },
  {
   "cell_type": "code",
   "execution_count": 8,
   "id": "51461e51",
   "metadata": {},
   "outputs": [
    {
     "data": {
      "text/html": [
       "0.214597650220175"
      ],
      "text/latex": [
       "0.214597650220175"
      ],
      "text/markdown": [
       "0.214597650220175"
      ],
      "text/plain": [
       "[1] 0.2145977"
      ]
     },
     "metadata": {},
     "output_type": "display_data"
    }
   ],
   "source": [
    "# finding p value of the test statistic\n",
    "\n",
    "p_value <- 1-pnorm(test_statistic)\n",
    "p_value"
   ]
  },
  {
   "cell_type": "code",
   "execution_count": 8,
   "id": "ce06da98",
   "metadata": {},
   "outputs": [],
   "source": [
    "# This tells us that the significance level (alpha) would need to be bigger than 0.2145, or 21.45%, to reject the null hypothesis.\n",
    "\n",
    "# This P-value is bigger than any of the common significance levels (10%, 5%, 1%).\n",
    "\n",
    "# So the null hypothesis is kept at all of these significance levels.\n",
    "\n",
    "# And we can summarize the conclusion stating:\n",
    "# The sample data does not support the claim that \"more than 20% of Nobel Prize winners were born in the US\" at a 10%, 5%, or 1% significance level."
   ]
  },
  {
   "cell_type": "markdown",
   "id": "a9ec0116",
   "metadata": {},
   "source": [
    "### Calculating p value for a hypothesis test (right tailed test)"
   ]
  },
  {
   "cell_type": "code",
   "execution_count": 14,
   "id": "64267cdf",
   "metadata": {},
   "outputs": [
    {
     "data": {
      "text/html": [
       "0.214597650220175"
      ],
      "text/latex": [
       "0.214597650220175"
      ],
      "text/markdown": [
       "0.214597650220175"
      ],
      "text/plain": [
       "[1] 0.2145977"
      ]
     },
     "metadata": {},
     "output_type": "display_data"
    }
   ],
   "source": [
    "# Null hypothesis: 20% of Nobel Prize winners were born in the US.\n",
    "# H0 : p = 0.20\n",
    "\n",
    "# Alternative hypothesis: More than 20% of Nobel Prize winners were born in the US.\n",
    "# H1 : p > 0.20\n",
    "\n",
    "\n",
    "# Specify the sample occurrences (x), the sample size (n), and the null-hypothesis claim (p)\n",
    "x <- 10\n",
    "n <- 40\n",
    "p <- 0.20\n",
    "\n",
    "# P-value from right-tail proportion test at 0.05 significance level\n",
    "prop.test(x, n, p, alternative = c(\"greater\"), conf.level = 0.95, correct = FALSE)$p.value"
   ]
  },
  {
   "cell_type": "code",
   "execution_count": null,
   "id": "540e5c1b",
   "metadata": {},
   "outputs": [],
   "source": [
    "# This P-value is bigger than any of the common significance levels (10%, 5%, 1%).\n",
    "\n",
    "# So the null hypothesis is kept at all of these significance levels.\n",
    "\n",
    "# And we can summarize the conclusion stating:\n",
    "# The sample data does not support the claim that \"more than 20% of Nobel Prize winners were born in the US\" at a 10%, 5%, or 1% significance level."
   ]
  },
  {
   "cell_type": "markdown",
   "id": "e4c2e902",
   "metadata": {},
   "source": [
    "### Calculating p value for a hypothesis test (left tailed test)"
   ]
  },
  {
   "cell_type": "code",
   "execution_count": 16,
   "id": "ffb14539",
   "metadata": {},
   "outputs": [
    {
     "data": {
      "text/html": [
       "0.0055020765884344"
      ],
      "text/latex": [
       "0.0055020765884344"
      ],
      "text/markdown": [
       "0.0055020765884344"
      ],
      "text/plain": [
       "[1] 0.005502077"
      ]
     },
     "metadata": {},
     "output_type": "display_data"
    }
   ],
   "source": [
    "# Null hypothesis: 45% of Nobel Prize winners were born in the US.\n",
    "# H0 : p = 0.45\n",
    "\n",
    "# Alternative hypothesis: Less than 45% of Nobel Prize winners were born in the US.\n",
    "# H1 : p < 0.45\n",
    "\n",
    "\n",
    "# Specify the sample occurences (x), the sample size (n), and the null-hypothesis claim (p)\n",
    "x <- 10\n",
    "n <- 40\n",
    "p <- 0.45\n",
    "\n",
    "# P-value from left-tail proportion test at 0.01 significance level\n",
    "prop.test(x, n, p, alternative = c(\"less\"), conf.level = 0.99, correct = FALSE)$p.value"
   ]
  },
  {
   "cell_type": "code",
   "execution_count": null,
   "id": "110e1738",
   "metadata": {},
   "outputs": [],
   "source": [
    "# This P-value is smaller than any of the common significance levels (10%, 5%, 1%).\n",
    "\n",
    "# So the null hypothesis is rejected at all of these significance levels.\n",
    "\n",
    "# And we can summarize the conclusion stating:\n",
    "# The sample data supports the claim that \"less than 45% of Nobel Prize winners were born in the US\" at a 10%, 5%, and 1% significance level."
   ]
  },
  {
   "cell_type": "markdown",
   "id": "41416b63",
   "metadata": {},
   "source": [
    "### Calculating p value for a hypothesis test (twin tailed test)"
   ]
  },
  {
   "cell_type": "code",
   "execution_count": 17,
   "id": "2977d2bb",
   "metadata": {},
   "outputs": [
    {
     "data": {
      "text/html": [
       "1.24419211485436e-15"
      ],
      "text/latex": [
       "1.24419211485436e-15"
      ],
      "text/markdown": [
       "1.24419211485436e-15"
      ],
      "text/plain": [
       "[1] 1.244192e-15"
      ]
     },
     "metadata": {},
     "output_type": "display_data"
    }
   ],
   "source": [
    "# Null hypothesis: 50% of Nobel Prize winners were women.\n",
    "# H0 : p = 0.50\n",
    "    \n",
    "# Alternative hypothesis: The share of Nobel Prize winners that are women is not 50%\n",
    "# H1 : p != 0.50\n",
    "\n",
    "\n",
    "# Specify the sample occurrences (x), the sample size (n), and the null-hypothesis claim (p)\n",
    "x <- 10\n",
    "n <- 100\n",
    "p <- 0.5\n",
    "\n",
    "# P-value from left-tail proportion test at 0.01 significance level\n",
    "prop.test(x, n, p, alternative = c(\"two.sided\"), conf.level = 0.99, correct = FALSE)$p.value"
   ]
  },
  {
   "cell_type": "code",
   "execution_count": null,
   "id": "80d7fc3f",
   "metadata": {},
   "outputs": [],
   "source": [
    "# This P-value is smaller than any of the common significance levels (10%, 5%, 1%).\n",
    "\n",
    "# So the null hypothesis is rejected at all of these significance levels.\n",
    "\n",
    "# And we can summarize the conclusion stating:\n",
    "# The sample data supports the claim that \"The share of Nobel Prize winners that are women is not 50%\" at a 10%, 5%, and 1% significance level."
   ]
  },
  {
   "cell_type": "markdown",
   "id": "b582fe95",
   "metadata": {},
   "source": [
    "## Hypothesis Testing Mean"
   ]
  },
  {
   "cell_type": "code",
   "execution_count": 9,
   "id": "593f53d1",
   "metadata": {},
   "outputs": [
    {
     "data": {
      "text/html": [
       "2.88917545192175"
      ],
      "text/latex": [
       "2.88917545192175"
      ],
      "text/markdown": [
       "2.88917545192175"
      ],
      "text/plain": [
       "[1] 2.889175"
      ]
     },
     "metadata": {},
     "output_type": "display_data"
    }
   ],
   "source": [
    "# finding the test statistic\n",
    "\n",
    "# Null hypothesis: The average age was 55.\n",
    "# H0 : μ = 55\n",
    "\n",
    "# Alternative hypothesis: The average age was more than 55.\n",
    "# H1 : μ > 55\n",
    "\n",
    "\n",
    "# Specify the sample mean (x_bar), the sample standard deviation (s), the mean claimed in the null-hypothesis (mu_null), and the sample size (n)\n",
    "x_bar <- 62.1\n",
    "s <- 13.46\n",
    "mu_null <- 55\n",
    "n <- 30\n",
    "\n",
    "# Output the test statistic\n",
    "test_statistic <- (x_bar - mu_null)/(s/sqrt(n))\n",
    "test_statistic"
   ]
  },
  {
   "cell_type": "markdown",
   "id": "a49dc206",
   "metadata": {},
   "source": [
    "#### Critical Value Approach"
   ]
  },
  {
   "cell_type": "code",
   "execution_count": 10,
   "id": "c1febde2",
   "metadata": {},
   "outputs": [
    {
     "data": {
      "text/html": [
       "2.46202136015041"
      ],
      "text/latex": [
       "2.46202136015041"
      ],
      "text/markdown": [
       "2.46202136015041"
      ],
      "text/plain": [
       "[1] 2.462021"
      ]
     },
     "metadata": {},
     "output_type": "display_data"
    }
   ],
   "source": [
    "# finding the critical t - value\n",
    "\n",
    "t_critical <- qt(1-0.01, 29)\n",
    "t_critical"
   ]
  },
  {
   "cell_type": "code",
   "execution_count": 5,
   "id": "57bfc70a",
   "metadata": {},
   "outputs": [],
   "source": [
    "# since the alternative hypothesis states that mean is greater than null hypothesis, it is a right tailed test\n",
    "\n",
    "# from above results it is clear that:\n",
    "#     test statistic (2.889) > critical t value (2.462) ie lying in the rejection region of alpha = 0.01\n",
    "\n",
    "\n",
    "# Conclusions :\n",
    "    \n",
    "# 1) Since the test statistic was bigger than the critical value we reject the null hypothesis.\n",
    "\n",
    "# 2) This means that the sample data supports the alternative hypothesis.\n",
    "\n",
    "# 3) And we can summarize the conclusion stating:\n",
    "    # The sample data supports the claim that \"The average age of Nobel Prize winners when they received the prize is more than 55\" at a 1% significance level."
   ]
  },
  {
   "cell_type": "markdown",
   "id": "6cd3d021",
   "metadata": {},
   "source": [
    "#### P Value Approach"
   ]
  },
  {
   "cell_type": "code",
   "execution_count": 12,
   "id": "42f273b3",
   "metadata": {},
   "outputs": [
    {
     "data": {
      "text/html": [
       "0.00361827837694806"
      ],
      "text/latex": [
       "0.00361827837694806"
      ],
      "text/markdown": [
       "0.00361827837694806"
      ],
      "text/plain": [
       "[1] 0.003618278"
      ]
     },
     "metadata": {},
     "output_type": "display_data"
    }
   ],
   "source": [
    "# finding p value of the test statistic\n",
    "\n",
    "p_value <- 1-pt(test_statistic, 29)\n",
    "p_value"
   ]
  },
  {
   "cell_type": "code",
   "execution_count": 13,
   "id": "dba4b429",
   "metadata": {},
   "outputs": [],
   "source": [
    "# This P-value is smaller than any of the common significance levels (10%, 5%, 1%).\n",
    "\n",
    "# So the null hypothesis is rejected at all of these significance levels.\n",
    "\n",
    "# And we can summarize the conclusion stating:\n",
    "# The sample data supports the claim that \"The average age of Nobel Prize winners when they received the prize is more than 55\" at a 10%, 5%, or 1% significance level."
   ]
  },
  {
   "cell_type": "markdown",
   "id": "90945bb5",
   "metadata": {},
   "source": [
    "### Calculating p value for a hypothesis test (right tailed test)"
   ]
  },
  {
   "cell_type": "code",
   "execution_count": 14,
   "id": "3fb207e6",
   "metadata": {},
   "outputs": [
    {
     "data": {
      "text/html": [
       "0.00361827837694806"
      ],
      "text/latex": [
       "0.00361827837694806"
      ],
      "text/markdown": [
       "0.00361827837694806"
      ],
      "text/plain": [
       "[1] 0.003618278"
      ]
     },
     "metadata": {},
     "output_type": "display_data"
    }
   ],
   "source": [
    "# Null hypothesis: The average age was 55.\n",
    "# H0 : μ = 55\n",
    "\n",
    "# Alternative hypothesis: The average age was more than 55.\n",
    "# H1 : μ > 55\n",
    "\n",
    "\n",
    "# Specify the sample mean (x_bar), the sample standard deviation (s), the mean claimed in the null-hypothesis (mu_null), and the sample size (n)\n",
    "x_bar <- 62.1\n",
    "s <- 13.46\n",
    "mu_null <- 55\n",
    "n <- 30\n",
    "\n",
    "# Calculate the test statistic\n",
    "test_stat = (x_bar - mu_null)/(s/sqrt(n))\n",
    "\n",
    "# P-value the p-value of the test statistic (right tailed test)\n",
    "1-pt(test_stat, n-1)"
   ]
  },
  {
   "cell_type": "code",
   "execution_count": null,
   "id": "fd6ee91c",
   "metadata": {},
   "outputs": [],
   "source": [
    "# This P-value is smaller than any of the common significance levels (10%, 5%, 1%).\n",
    "\n",
    "# So the null hypothesis is rejected at all of these significance levels.\n",
    "\n",
    "# And we can summarize the conclusion stating:\n",
    "# The sample data supports the claim that \"The average age of Nobel Prize winners when they received the prize is more than 55\" at a 10%, 5%, or 1% significance level."
   ]
  },
  {
   "cell_type": "markdown",
   "id": "5c65aeae",
   "metadata": {},
   "source": [
    "### Calculating p value for a hypothesis test (left tailed test)"
   ]
  },
  {
   "cell_type": "code",
   "execution_count": 15,
   "id": "e8d9289c",
   "metadata": {},
   "outputs": [
    {
     "data": {
      "text/html": [
       "0.800096124726032"
      ],
      "text/latex": [
       "0.800096124726032"
      ],
      "text/markdown": [
       "0.800096124726032"
      ],
      "text/plain": [
       "[1] 0.8000961"
      ]
     },
     "metadata": {},
     "output_type": "display_data"
    }
   ],
   "source": [
    "# Null hypothesis: The average age was 60.\n",
    "# H0 : μ = 60\n",
    "\n",
    "# Alternative hypothesis: The average age was less than 60.\n",
    "# H1 : μ < 60 \n",
    "\n",
    "\n",
    "# Specify the sample mean (x_bar), the sample standard deviation (s), the mean claimed in the null-hypothesis (mu_null), and the sample size (n)\n",
    "x_bar <- 62.1\n",
    "s <- 13.46\n",
    "mu_null <- 60\n",
    "n <- 30\n",
    "\n",
    "# Calculate the test statistic\n",
    "test_stat = (x_bar - mu_null)/(s/sqrt(n))\n",
    "\n",
    "# P-value the p-value of the test statistic (left tailed test)\n",
    "pt(test_stat, n-1)"
   ]
  },
  {
   "cell_type": "code",
   "execution_count": null,
   "id": "4ccdd93c",
   "metadata": {},
   "outputs": [],
   "source": [
    "# This P-value is far bigger than any of the common significance levels (10%, 5%, 1%).\n",
    "\n",
    "# So the null hypothesis is kept at all of these significance levels.\n",
    "\n",
    "# And we can summarize the conclusion stating:\n",
    "#     The sample data does not support the claim that \"The average age of Nobel Prize winners when they received the prize is less than 60\" at a 10%, 5%, or 1% significance level."
   ]
  },
  {
   "cell_type": "markdown",
   "id": "4899c65c",
   "metadata": {},
   "source": [
    "### Calculating p value for a hypothesis test (twin tailed test)"
   ]
  },
  {
   "cell_type": "code",
   "execution_count": 16,
   "id": "f41ce3b5",
   "metadata": {},
   "outputs": [
    {
     "data": {
      "text/html": [
       "0.399807750547937"
      ],
      "text/latex": [
       "0.399807750547937"
      ],
      "text/markdown": [
       "0.399807750547937"
      ],
      "text/plain": [
       "[1] 0.3998078"
      ]
     },
     "metadata": {},
     "output_type": "display_data"
    }
   ],
   "source": [
    "# Null hypothesis: The average age was 60.\n",
    "# H0 : μ = 60\n",
    "\n",
    "# Alternative hypothesis: The average age is not 60.\n",
    "# H1 : μ != 60 \n",
    "\n",
    "\n",
    "# Specify the sample mean (x_bar), the sample standard deviation (s), the mean claimed in the null-hypothesis (mu_null), and the sample size (n)\n",
    "x_bar <- 62.1\n",
    "s <- 13.46\n",
    "mu_null <- 60\n",
    "n <- 30\n",
    "\n",
    "# Calculate the test statistic\n",
    "test_stat = (x_bar - mu_null)/(s/sqrt(n))\n",
    "\n",
    "# P-value the p-value of the test statistic (two tailed test)\n",
    "2*(1-pt(test_stat, n-1))"
   ]
  },
  {
   "cell_type": "code",
   "execution_count": null,
   "id": "0aac40f4",
   "metadata": {},
   "outputs": [],
   "source": [
    "# This P-value is bigger than any of the common significance levels (10%, 5%, 1%).\n",
    "\n",
    "# So the null hypothesis is kept at all of these significance levels.\n",
    "\n",
    "# And we can summarize the conclusion stating:\n",
    "#     The sample data does not support the claim that \"The average age of Nobel Prize winners when they received the prize is not 60\" at a 10%, 5%, or 1% significance level."
   ]
  },
  {
   "cell_type": "code",
   "execution_count": null,
   "id": "79c15098",
   "metadata": {},
   "outputs": [],
   "source": []
  }
 ],
 "metadata": {
  "kernelspec": {
   "display_name": "R",
   "language": "R",
   "name": "ir"
  },
  "language_info": {
   "codemirror_mode": "r",
   "file_extension": ".r",
   "mimetype": "text/x-r-source",
   "name": "R",
   "pygments_lexer": "r",
   "version": "4.2.0"
  }
 },
 "nbformat": 4,
 "nbformat_minor": 5
}
