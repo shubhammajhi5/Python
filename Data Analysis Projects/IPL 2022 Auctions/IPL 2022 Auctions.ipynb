{
 "cells": [
  {
   "cell_type": "code",
   "execution_count": 1,
   "id": "2b6ecd4b",
   "metadata": {},
   "outputs": [],
   "source": [
    "import pandas as pd\n",
    "import numpy as np\n",
    "import seaborn as sns\n",
    "from matplotlib import pyplot as plt\n",
    "\n",
    "%matplotlib inline\n",
    "\n",
    "import warnings\n",
    "warnings.filterwarnings('ignore')"
   ]
  },
  {
   "cell_type": "code",
   "execution_count": 2,
   "id": "99835715",
   "metadata": {
    "scrolled": true
   },
   "outputs": [],
   "source": [
    "sold = pd.read_csv('ipl2022_sold.csv')\n",
    "unsold = pd.read_csv('ipl2022_unsold.csv')"
   ]
  },
  {
   "cell_type": "code",
   "execution_count": 3,
   "id": "dd58dbf5",
   "metadata": {
    "scrolled": true
   },
   "outputs": [
    {
     "data": {
      "text/html": [
       "<div>\n",
       "<style scoped>\n",
       "    .dataframe tbody tr th:only-of-type {\n",
       "        vertical-align: middle;\n",
       "    }\n",
       "\n",
       "    .dataframe tbody tr th {\n",
       "        vertical-align: top;\n",
       "    }\n",
       "\n",
       "    .dataframe thead th {\n",
       "        text-align: right;\n",
       "    }\n",
       "</style>\n",
       "<table border=\"1\" class=\"dataframe\">\n",
       "  <thead>\n",
       "    <tr style=\"text-align: right;\">\n",
       "      <th></th>\n",
       "      <th>Players</th>\n",
       "      <th>Nationality</th>\n",
       "      <th>Type</th>\n",
       "      <th>Price Paid</th>\n",
       "      <th>Team</th>\n",
       "    </tr>\n",
       "  </thead>\n",
       "  <tbody>\n",
       "    <tr>\n",
       "      <th>0</th>\n",
       "      <td>Robin Uthappa</td>\n",
       "      <td>Indian</td>\n",
       "      <td>Batsman</td>\n",
       "      <td>₹2,00,00,000</td>\n",
       "      <td>CSK</td>\n",
       "    </tr>\n",
       "    <tr>\n",
       "      <th>1</th>\n",
       "      <td>Dwayne Bravo</td>\n",
       "      <td>Overseas</td>\n",
       "      <td>All-Rounder</td>\n",
       "      <td>₹4,40,00,000</td>\n",
       "      <td>CSK</td>\n",
       "    </tr>\n",
       "    <tr>\n",
       "      <th>2</th>\n",
       "      <td>Ambati Rayudu</td>\n",
       "      <td>Indian</td>\n",
       "      <td>Wicket Keeper</td>\n",
       "      <td>₹6,75,00,000</td>\n",
       "      <td>CSK</td>\n",
       "    </tr>\n",
       "    <tr>\n",
       "      <th>3</th>\n",
       "      <td>Deepak Chahar</td>\n",
       "      <td>Indian</td>\n",
       "      <td>Bowler</td>\n",
       "      <td>₹14,00,00,000</td>\n",
       "      <td>CSK</td>\n",
       "    </tr>\n",
       "    <tr>\n",
       "      <th>4</th>\n",
       "      <td>C.Hari Nishaanth</td>\n",
       "      <td>Indian</td>\n",
       "      <td>Batsman</td>\n",
       "      <td>₹20,00,000</td>\n",
       "      <td>CSK</td>\n",
       "    </tr>\n",
       "    <tr>\n",
       "      <th>...</th>\n",
       "      <td>...</td>\n",
       "      <td>...</td>\n",
       "      <td>...</td>\n",
       "      <td>...</td>\n",
       "      <td>...</td>\n",
       "    </tr>\n",
       "    <tr>\n",
       "      <th>199</th>\n",
       "      <td>Fazalhaq Farooqi</td>\n",
       "      <td>Overseas</td>\n",
       "      <td>Bowler</td>\n",
       "      <td>₹50,00,000</td>\n",
       "      <td>SRH</td>\n",
       "    </tr>\n",
       "    <tr>\n",
       "      <th>200</th>\n",
       "      <td>Sean Abbott</td>\n",
       "      <td>Overseas</td>\n",
       "      <td>Bowler</td>\n",
       "      <td>₹2,40,00,000</td>\n",
       "      <td>SRH</td>\n",
       "    </tr>\n",
       "    <tr>\n",
       "      <th>201</th>\n",
       "      <td>R Samarth</td>\n",
       "      <td>Indian</td>\n",
       "      <td>Batsman</td>\n",
       "      <td>₹20,00,000</td>\n",
       "      <td>SRH</td>\n",
       "    </tr>\n",
       "    <tr>\n",
       "      <th>202</th>\n",
       "      <td>Shashank Singh</td>\n",
       "      <td>Indian</td>\n",
       "      <td>All-Rounder</td>\n",
       "      <td>₹20,00,000</td>\n",
       "      <td>SRH</td>\n",
       "    </tr>\n",
       "    <tr>\n",
       "      <th>203</th>\n",
       "      <td>Saurabh Dubey</td>\n",
       "      <td>Indian</td>\n",
       "      <td>Bowler</td>\n",
       "      <td>₹20,00,000</td>\n",
       "      <td>SRH</td>\n",
       "    </tr>\n",
       "  </tbody>\n",
       "</table>\n",
       "<p>204 rows × 5 columns</p>\n",
       "</div>"
      ],
      "text/plain": [
       "              Players Nationality           Type     Price Paid Team\n",
       "0       Robin Uthappa      Indian        Batsman   ₹2,00,00,000  CSK\n",
       "1        Dwayne Bravo    Overseas    All-Rounder   ₹4,40,00,000  CSK\n",
       "2       Ambati Rayudu      Indian  Wicket Keeper   ₹6,75,00,000  CSK\n",
       "3       Deepak Chahar      Indian         Bowler  ₹14,00,00,000  CSK\n",
       "4    C.Hari Nishaanth      Indian        Batsman     ₹20,00,000  CSK\n",
       "..                ...         ...            ...            ...  ...\n",
       "199  Fazalhaq Farooqi    Overseas         Bowler     ₹50,00,000  SRH\n",
       "200       Sean Abbott    Overseas         Bowler   ₹2,40,00,000  SRH\n",
       "201         R Samarth      Indian        Batsman     ₹20,00,000  SRH\n",
       "202    Shashank Singh      Indian    All-Rounder     ₹20,00,000  SRH\n",
       "203     Saurabh Dubey      Indian         Bowler     ₹20,00,000  SRH\n",
       "\n",
       "[204 rows x 5 columns]"
      ]
     },
     "execution_count": 3,
     "metadata": {},
     "output_type": "execute_result"
    }
   ],
   "source": [
    "sold"
   ]
  },
  {
   "cell_type": "code",
   "execution_count": 4,
   "id": "c04128e4",
   "metadata": {},
   "outputs": [],
   "source": [
    "sold['Total Price'] = sold['Price Paid'].str.replace('₹', '')\n",
    "sold['Total Price'] = sold['Total Price'].str.replace(',', '')\n",
    "sold['Total Price'] = sold['Total Price'].astype(int)"
   ]
  },
  {
   "cell_type": "code",
   "execution_count": 5,
   "id": "2872b8cf",
   "metadata": {},
   "outputs": [
    {
     "name": "stdout",
     "output_type": "stream",
     "text": [
      "<class 'pandas.core.frame.DataFrame'>\n",
      "RangeIndex: 204 entries, 0 to 203\n",
      "Data columns (total 6 columns):\n",
      " #   Column       Non-Null Count  Dtype \n",
      "---  ------       --------------  ----- \n",
      " 0   Players      204 non-null    object\n",
      " 1   Nationality  204 non-null    object\n",
      " 2   Type         204 non-null    object\n",
      " 3   Price Paid   204 non-null    object\n",
      " 4   Team         204 non-null    object\n",
      " 5   Total Price  204 non-null    int32 \n",
      "dtypes: int32(1), object(5)\n",
      "memory usage: 8.9+ KB\n"
     ]
    }
   ],
   "source": [
    "sold.info()"
   ]
  },
  {
   "cell_type": "code",
   "execution_count": 6,
   "id": "c85e43bb",
   "metadata": {
    "scrolled": true
   },
   "outputs": [
    {
     "data": {
      "text/html": [
       "<div>\n",
       "<style scoped>\n",
       "    .dataframe tbody tr th:only-of-type {\n",
       "        vertical-align: middle;\n",
       "    }\n",
       "\n",
       "    .dataframe tbody tr th {\n",
       "        vertical-align: top;\n",
       "    }\n",
       "\n",
       "    .dataframe thead th {\n",
       "        text-align: right;\n",
       "    }\n",
       "</style>\n",
       "<table border=\"1\" class=\"dataframe\">\n",
       "  <thead>\n",
       "    <tr style=\"text-align: right;\">\n",
       "      <th></th>\n",
       "      <th>PLAYER</th>\n",
       "      <th>NATIONALITYIndianOverseas</th>\n",
       "      <th>TYPEBatsmanAll-RounderBowlerWicket Keeper</th>\n",
       "      <th>BASE PRICE₹2,00,00,000₹1,50,00,000₹1,00,00,000₹75,00,000₹50,00,000₹40,00,000₹30,00,000₹20,00,000</th>\n",
       "    </tr>\n",
       "  </thead>\n",
       "  <tbody>\n",
       "    <tr>\n",
       "      <th>0</th>\n",
       "      <td>Suresh Raina</td>\n",
       "      <td>Indian</td>\n",
       "      <td>Batsman</td>\n",
       "      <td>₹2,00,00,000</td>\n",
       "    </tr>\n",
       "    <tr>\n",
       "      <th>1</th>\n",
       "      <td>Steve Smith</td>\n",
       "      <td>Overseas</td>\n",
       "      <td>Batsman</td>\n",
       "      <td>₹2,00,00,000</td>\n",
       "    </tr>\n",
       "    <tr>\n",
       "      <th>2</th>\n",
       "      <td>Shakib Al Hasan</td>\n",
       "      <td>Overseas</td>\n",
       "      <td>All-Rounder</td>\n",
       "      <td>₹2,00,00,000</td>\n",
       "    </tr>\n",
       "    <tr>\n",
       "      <th>3</th>\n",
       "      <td>Adil Rashid</td>\n",
       "      <td>Overseas</td>\n",
       "      <td>Bowler</td>\n",
       "      <td>₹2,00,00,000</td>\n",
       "    </tr>\n",
       "    <tr>\n",
       "      <th>4</th>\n",
       "      <td>Imran Tahir</td>\n",
       "      <td>Overseas</td>\n",
       "      <td>Bowler</td>\n",
       "      <td>₹2,00,00,000</td>\n",
       "    </tr>\n",
       "    <tr>\n",
       "      <th>...</th>\n",
       "      <td>...</td>\n",
       "      <td>...</td>\n",
       "      <td>...</td>\n",
       "      <td>...</td>\n",
       "    </tr>\n",
       "    <tr>\n",
       "      <th>391</th>\n",
       "      <td>K Nitish Reddy</td>\n",
       "      <td>Indian</td>\n",
       "      <td>Batsman</td>\n",
       "      <td>₹20,00,000</td>\n",
       "    </tr>\n",
       "    <tr>\n",
       "      <th>392</th>\n",
       "      <td>Hardik Tamore</td>\n",
       "      <td>Indian</td>\n",
       "      <td>Wicket Keeper</td>\n",
       "      <td>₹20,00,000</td>\n",
       "    </tr>\n",
       "    <tr>\n",
       "      <th>393</th>\n",
       "      <td>Mihir Hirwani</td>\n",
       "      <td>Indian</td>\n",
       "      <td>Bowler</td>\n",
       "      <td>₹20,00,000</td>\n",
       "    </tr>\n",
       "    <tr>\n",
       "      <th>394</th>\n",
       "      <td>Sairaj Patil</td>\n",
       "      <td>Indian</td>\n",
       "      <td>All-Rounder</td>\n",
       "      <td>₹20,00,000</td>\n",
       "    </tr>\n",
       "    <tr>\n",
       "      <th>395</th>\n",
       "      <td>Monu Singh</td>\n",
       "      <td>Indian</td>\n",
       "      <td>Bowler</td>\n",
       "      <td>₹20,00,000</td>\n",
       "    </tr>\n",
       "  </tbody>\n",
       "</table>\n",
       "<p>396 rows × 4 columns</p>\n",
       "</div>"
      ],
      "text/plain": [
       "              PLAYER NATIONALITYIndianOverseas  \\\n",
       "0       Suresh Raina                    Indian   \n",
       "1        Steve Smith                  Overseas   \n",
       "2    Shakib Al Hasan                  Overseas   \n",
       "3        Adil Rashid                  Overseas   \n",
       "4        Imran Tahir                  Overseas   \n",
       "..               ...                       ...   \n",
       "391   K Nitish Reddy                    Indian   \n",
       "392    Hardik Tamore                    Indian   \n",
       "393    Mihir Hirwani                    Indian   \n",
       "394     Sairaj Patil                    Indian   \n",
       "395       Monu Singh                    Indian   \n",
       "\n",
       "    TYPEBatsmanAll-RounderBowlerWicket Keeper  \\\n",
       "0                                     Batsman   \n",
       "1                                     Batsman   \n",
       "2                                 All-Rounder   \n",
       "3                                      Bowler   \n",
       "4                                      Bowler   \n",
       "..                                        ...   \n",
       "391                                   Batsman   \n",
       "392                             Wicket Keeper   \n",
       "393                                    Bowler   \n",
       "394                               All-Rounder   \n",
       "395                                    Bowler   \n",
       "\n",
       "    BASE PRICE₹2,00,00,000₹1,50,00,000₹1,00,00,000₹75,00,000₹50,00,000₹40,00,000₹30,00,000₹20,00,000  \n",
       "0                                         ₹2,00,00,000                                                \n",
       "1                                         ₹2,00,00,000                                                \n",
       "2                                         ₹2,00,00,000                                                \n",
       "3                                         ₹2,00,00,000                                                \n",
       "4                                         ₹2,00,00,000                                                \n",
       "..                                                 ...                                                \n",
       "391                                         ₹20,00,000                                                \n",
       "392                                         ₹20,00,000                                                \n",
       "393                                         ₹20,00,000                                                \n",
       "394                                         ₹20,00,000                                                \n",
       "395                                         ₹20,00,000                                                \n",
       "\n",
       "[396 rows x 4 columns]"
      ]
     },
     "execution_count": 6,
     "metadata": {},
     "output_type": "execute_result"
    }
   ],
   "source": [
    "unsold"
   ]
  },
  {
   "cell_type": "code",
   "execution_count": 7,
   "id": "7b16ebac",
   "metadata": {},
   "outputs": [],
   "source": [
    "unsold = unsold.rename(columns = \n",
    "                         {\n",
    "                             'PLAYER' : 'Players',\n",
    "                             'NATIONALITYIndianOverseas' : 'Nationality',\n",
    "                             'TYPEBatsmanAll-RounderBowlerWicket Keeper' : 'Type',\n",
    "                             'BASE PRICE₹2,00,00,000₹1,50,00,000₹1,00,00,000₹75,00,000₹50,00,000₹40,00,000₹30,00,000₹20,00,000' : 'Base Price' \n",
    "                         }\n",
    "             )"
   ]
  },
  {
   "cell_type": "code",
   "execution_count": 8,
   "id": "e0934014",
   "metadata": {},
   "outputs": [],
   "source": [
    "unsold =unsold.drop(columns = ['Base Price'])"
   ]
  },
  {
   "cell_type": "code",
   "execution_count": 9,
   "id": "b77e17ca",
   "metadata": {},
   "outputs": [
    {
     "data": {
      "text/html": [
       "<div>\n",
       "<style scoped>\n",
       "    .dataframe tbody tr th:only-of-type {\n",
       "        vertical-align: middle;\n",
       "    }\n",
       "\n",
       "    .dataframe tbody tr th {\n",
       "        vertical-align: top;\n",
       "    }\n",
       "\n",
       "    .dataframe thead th {\n",
       "        text-align: right;\n",
       "    }\n",
       "</style>\n",
       "<table border=\"1\" class=\"dataframe\">\n",
       "  <thead>\n",
       "    <tr style=\"text-align: right;\">\n",
       "      <th></th>\n",
       "      <th>Players</th>\n",
       "      <th>Nationality</th>\n",
       "      <th>Type</th>\n",
       "    </tr>\n",
       "  </thead>\n",
       "  <tbody>\n",
       "    <tr>\n",
       "      <th>0</th>\n",
       "      <td>Suresh Raina</td>\n",
       "      <td>Indian</td>\n",
       "      <td>Batsman</td>\n",
       "    </tr>\n",
       "    <tr>\n",
       "      <th>1</th>\n",
       "      <td>Steve Smith</td>\n",
       "      <td>Overseas</td>\n",
       "      <td>Batsman</td>\n",
       "    </tr>\n",
       "    <tr>\n",
       "      <th>2</th>\n",
       "      <td>Shakib Al Hasan</td>\n",
       "      <td>Overseas</td>\n",
       "      <td>All-Rounder</td>\n",
       "    </tr>\n",
       "    <tr>\n",
       "      <th>3</th>\n",
       "      <td>Adil Rashid</td>\n",
       "      <td>Overseas</td>\n",
       "      <td>Bowler</td>\n",
       "    </tr>\n",
       "    <tr>\n",
       "      <th>4</th>\n",
       "      <td>Imran Tahir</td>\n",
       "      <td>Overseas</td>\n",
       "      <td>Bowler</td>\n",
       "    </tr>\n",
       "    <tr>\n",
       "      <th>...</th>\n",
       "      <td>...</td>\n",
       "      <td>...</td>\n",
       "      <td>...</td>\n",
       "    </tr>\n",
       "    <tr>\n",
       "      <th>391</th>\n",
       "      <td>K Nitish Reddy</td>\n",
       "      <td>Indian</td>\n",
       "      <td>Batsman</td>\n",
       "    </tr>\n",
       "    <tr>\n",
       "      <th>392</th>\n",
       "      <td>Hardik Tamore</td>\n",
       "      <td>Indian</td>\n",
       "      <td>Wicket Keeper</td>\n",
       "    </tr>\n",
       "    <tr>\n",
       "      <th>393</th>\n",
       "      <td>Mihir Hirwani</td>\n",
       "      <td>Indian</td>\n",
       "      <td>Bowler</td>\n",
       "    </tr>\n",
       "    <tr>\n",
       "      <th>394</th>\n",
       "      <td>Sairaj Patil</td>\n",
       "      <td>Indian</td>\n",
       "      <td>All-Rounder</td>\n",
       "    </tr>\n",
       "    <tr>\n",
       "      <th>395</th>\n",
       "      <td>Monu Singh</td>\n",
       "      <td>Indian</td>\n",
       "      <td>Bowler</td>\n",
       "    </tr>\n",
       "  </tbody>\n",
       "</table>\n",
       "<p>396 rows × 3 columns</p>\n",
       "</div>"
      ],
      "text/plain": [
       "             Players Nationality           Type\n",
       "0       Suresh Raina      Indian        Batsman\n",
       "1        Steve Smith    Overseas        Batsman\n",
       "2    Shakib Al Hasan    Overseas    All-Rounder\n",
       "3        Adil Rashid    Overseas         Bowler\n",
       "4        Imran Tahir    Overseas         Bowler\n",
       "..               ...         ...            ...\n",
       "391   K Nitish Reddy      Indian        Batsman\n",
       "392    Hardik Tamore      Indian  Wicket Keeper\n",
       "393    Mihir Hirwani      Indian         Bowler\n",
       "394     Sairaj Patil      Indian    All-Rounder\n",
       "395       Monu Singh      Indian         Bowler\n",
       "\n",
       "[396 rows x 3 columns]"
      ]
     },
     "execution_count": 9,
     "metadata": {},
     "output_type": "execute_result"
    }
   ],
   "source": [
    "unsold"
   ]
  },
  {
   "cell_type": "code",
   "execution_count": 10,
   "id": "87bf0faf",
   "metadata": {},
   "outputs": [],
   "source": [
    "ipl = sold.append(unsold, ignore_index = True)"
   ]
  },
  {
   "cell_type": "code",
   "execution_count": 11,
   "id": "73be7437",
   "metadata": {
    "scrolled": true
   },
   "outputs": [
    {
     "data": {
      "text/html": [
       "<div>\n",
       "<style scoped>\n",
       "    .dataframe tbody tr th:only-of-type {\n",
       "        vertical-align: middle;\n",
       "    }\n",
       "\n",
       "    .dataframe tbody tr th {\n",
       "        vertical-align: top;\n",
       "    }\n",
       "\n",
       "    .dataframe thead th {\n",
       "        text-align: right;\n",
       "    }\n",
       "</style>\n",
       "<table border=\"1\" class=\"dataframe\">\n",
       "  <thead>\n",
       "    <tr style=\"text-align: right;\">\n",
       "      <th></th>\n",
       "      <th>Players</th>\n",
       "      <th>Nationality</th>\n",
       "      <th>Type</th>\n",
       "      <th>Price Paid</th>\n",
       "      <th>Team</th>\n",
       "      <th>Total Price</th>\n",
       "    </tr>\n",
       "  </thead>\n",
       "  <tbody>\n",
       "    <tr>\n",
       "      <th>0</th>\n",
       "      <td>Robin Uthappa</td>\n",
       "      <td>Indian</td>\n",
       "      <td>Batsman</td>\n",
       "      <td>₹2,00,00,000</td>\n",
       "      <td>CSK</td>\n",
       "      <td>20000000.0</td>\n",
       "    </tr>\n",
       "    <tr>\n",
       "      <th>1</th>\n",
       "      <td>Dwayne Bravo</td>\n",
       "      <td>Overseas</td>\n",
       "      <td>All-Rounder</td>\n",
       "      <td>₹4,40,00,000</td>\n",
       "      <td>CSK</td>\n",
       "      <td>44000000.0</td>\n",
       "    </tr>\n",
       "    <tr>\n",
       "      <th>2</th>\n",
       "      <td>Ambati Rayudu</td>\n",
       "      <td>Indian</td>\n",
       "      <td>Wicket Keeper</td>\n",
       "      <td>₹6,75,00,000</td>\n",
       "      <td>CSK</td>\n",
       "      <td>67500000.0</td>\n",
       "    </tr>\n",
       "    <tr>\n",
       "      <th>3</th>\n",
       "      <td>Deepak Chahar</td>\n",
       "      <td>Indian</td>\n",
       "      <td>Bowler</td>\n",
       "      <td>₹14,00,00,000</td>\n",
       "      <td>CSK</td>\n",
       "      <td>140000000.0</td>\n",
       "    </tr>\n",
       "    <tr>\n",
       "      <th>4</th>\n",
       "      <td>C.Hari Nishaanth</td>\n",
       "      <td>Indian</td>\n",
       "      <td>Batsman</td>\n",
       "      <td>₹20,00,000</td>\n",
       "      <td>CSK</td>\n",
       "      <td>2000000.0</td>\n",
       "    </tr>\n",
       "    <tr>\n",
       "      <th>...</th>\n",
       "      <td>...</td>\n",
       "      <td>...</td>\n",
       "      <td>...</td>\n",
       "      <td>...</td>\n",
       "      <td>...</td>\n",
       "      <td>...</td>\n",
       "    </tr>\n",
       "    <tr>\n",
       "      <th>595</th>\n",
       "      <td>K Nitish Reddy</td>\n",
       "      <td>Indian</td>\n",
       "      <td>Batsman</td>\n",
       "      <td>NaN</td>\n",
       "      <td>NaN</td>\n",
       "      <td>NaN</td>\n",
       "    </tr>\n",
       "    <tr>\n",
       "      <th>596</th>\n",
       "      <td>Hardik Tamore</td>\n",
       "      <td>Indian</td>\n",
       "      <td>Wicket Keeper</td>\n",
       "      <td>NaN</td>\n",
       "      <td>NaN</td>\n",
       "      <td>NaN</td>\n",
       "    </tr>\n",
       "    <tr>\n",
       "      <th>597</th>\n",
       "      <td>Mihir Hirwani</td>\n",
       "      <td>Indian</td>\n",
       "      <td>Bowler</td>\n",
       "      <td>NaN</td>\n",
       "      <td>NaN</td>\n",
       "      <td>NaN</td>\n",
       "    </tr>\n",
       "    <tr>\n",
       "      <th>598</th>\n",
       "      <td>Sairaj Patil</td>\n",
       "      <td>Indian</td>\n",
       "      <td>All-Rounder</td>\n",
       "      <td>NaN</td>\n",
       "      <td>NaN</td>\n",
       "      <td>NaN</td>\n",
       "    </tr>\n",
       "    <tr>\n",
       "      <th>599</th>\n",
       "      <td>Monu Singh</td>\n",
       "      <td>Indian</td>\n",
       "      <td>Bowler</td>\n",
       "      <td>NaN</td>\n",
       "      <td>NaN</td>\n",
       "      <td>NaN</td>\n",
       "    </tr>\n",
       "  </tbody>\n",
       "</table>\n",
       "<p>600 rows × 6 columns</p>\n",
       "</div>"
      ],
      "text/plain": [
       "              Players Nationality           Type     Price Paid Team  \\\n",
       "0       Robin Uthappa      Indian        Batsman   ₹2,00,00,000  CSK   \n",
       "1        Dwayne Bravo    Overseas    All-Rounder   ₹4,40,00,000  CSK   \n",
       "2       Ambati Rayudu      Indian  Wicket Keeper   ₹6,75,00,000  CSK   \n",
       "3       Deepak Chahar      Indian         Bowler  ₹14,00,00,000  CSK   \n",
       "4    C.Hari Nishaanth      Indian        Batsman     ₹20,00,000  CSK   \n",
       "..                ...         ...            ...            ...  ...   \n",
       "595    K Nitish Reddy      Indian        Batsman            NaN  NaN   \n",
       "596     Hardik Tamore      Indian  Wicket Keeper            NaN  NaN   \n",
       "597     Mihir Hirwani      Indian         Bowler            NaN  NaN   \n",
       "598      Sairaj Patil      Indian    All-Rounder            NaN  NaN   \n",
       "599        Monu Singh      Indian         Bowler            NaN  NaN   \n",
       "\n",
       "     Total Price  \n",
       "0     20000000.0  \n",
       "1     44000000.0  \n",
       "2     67500000.0  \n",
       "3    140000000.0  \n",
       "4      2000000.0  \n",
       "..           ...  \n",
       "595          NaN  \n",
       "596          NaN  \n",
       "597          NaN  \n",
       "598          NaN  \n",
       "599          NaN  \n",
       "\n",
       "[600 rows x 6 columns]"
      ]
     },
     "execution_count": 11,
     "metadata": {},
     "output_type": "execute_result"
    }
   ],
   "source": [
    "ipl"
   ]
  },
  {
   "cell_type": "code",
   "execution_count": 12,
   "id": "a91415a7",
   "metadata": {},
   "outputs": [
    {
     "name": "stdout",
     "output_type": "stream",
     "text": [
      "<class 'pandas.core.frame.DataFrame'>\n",
      "RangeIndex: 600 entries, 0 to 599\n",
      "Data columns (total 6 columns):\n",
      " #   Column       Non-Null Count  Dtype  \n",
      "---  ------       --------------  -----  \n",
      " 0   Players      600 non-null    object \n",
      " 1   Nationality  600 non-null    object \n",
      " 2   Type         600 non-null    object \n",
      " 3   Price Paid   204 non-null    object \n",
      " 4   Team         204 non-null    object \n",
      " 5   Total Price  204 non-null    float64\n",
      "dtypes: float64(1), object(5)\n",
      "memory usage: 28.2+ KB\n"
     ]
    }
   ],
   "source": [
    "ipl.info()"
   ]
  },
  {
   "cell_type": "code",
   "execution_count": 13,
   "id": "5123d8ac",
   "metadata": {},
   "outputs": [
    {
     "data": {
      "text/html": [
       "<div>\n",
       "<style scoped>\n",
       "    .dataframe tbody tr th:only-of-type {\n",
       "        vertical-align: middle;\n",
       "    }\n",
       "\n",
       "    .dataframe tbody tr th {\n",
       "        vertical-align: top;\n",
       "    }\n",
       "\n",
       "    .dataframe thead th {\n",
       "        text-align: right;\n",
       "    }\n",
       "</style>\n",
       "<table border=\"1\" class=\"dataframe\">\n",
       "  <thead>\n",
       "    <tr style=\"text-align: right;\">\n",
       "      <th></th>\n",
       "      <th>Players</th>\n",
       "      <th>Nationality</th>\n",
       "      <th>Type</th>\n",
       "      <th>Price Paid</th>\n",
       "      <th>Team</th>\n",
       "      <th>Total Price</th>\n",
       "    </tr>\n",
       "  </thead>\n",
       "  <tbody>\n",
       "    <tr>\n",
       "      <th>0</th>\n",
       "      <td>Robin Uthappa</td>\n",
       "      <td>Indian</td>\n",
       "      <td>Batsman</td>\n",
       "      <td>₹2,00,00,000</td>\n",
       "      <td>CSK</td>\n",
       "      <td>20000000.0</td>\n",
       "    </tr>\n",
       "    <tr>\n",
       "      <th>1</th>\n",
       "      <td>Dwayne Bravo</td>\n",
       "      <td>Overseas</td>\n",
       "      <td>All-Rounder</td>\n",
       "      <td>₹4,40,00,000</td>\n",
       "      <td>CSK</td>\n",
       "      <td>44000000.0</td>\n",
       "    </tr>\n",
       "    <tr>\n",
       "      <th>2</th>\n",
       "      <td>Ambati Rayudu</td>\n",
       "      <td>Indian</td>\n",
       "      <td>Wicket Keeper</td>\n",
       "      <td>₹6,75,00,000</td>\n",
       "      <td>CSK</td>\n",
       "      <td>67500000.0</td>\n",
       "    </tr>\n",
       "    <tr>\n",
       "      <th>3</th>\n",
       "      <td>Deepak Chahar</td>\n",
       "      <td>Indian</td>\n",
       "      <td>Bowler</td>\n",
       "      <td>₹14,00,00,000</td>\n",
       "      <td>CSK</td>\n",
       "      <td>140000000.0</td>\n",
       "    </tr>\n",
       "    <tr>\n",
       "      <th>4</th>\n",
       "      <td>C.Hari Nishaanth</td>\n",
       "      <td>Indian</td>\n",
       "      <td>Batsman</td>\n",
       "      <td>₹20,00,000</td>\n",
       "      <td>CSK</td>\n",
       "      <td>2000000.0</td>\n",
       "    </tr>\n",
       "    <tr>\n",
       "      <th>...</th>\n",
       "      <td>...</td>\n",
       "      <td>...</td>\n",
       "      <td>...</td>\n",
       "      <td>...</td>\n",
       "      <td>...</td>\n",
       "      <td>...</td>\n",
       "    </tr>\n",
       "    <tr>\n",
       "      <th>595</th>\n",
       "      <td>K Nitish Reddy</td>\n",
       "      <td>Indian</td>\n",
       "      <td>Batsman</td>\n",
       "      <td>₹0</td>\n",
       "      <td>NO TEAM</td>\n",
       "      <td>0.0</td>\n",
       "    </tr>\n",
       "    <tr>\n",
       "      <th>596</th>\n",
       "      <td>Hardik Tamore</td>\n",
       "      <td>Indian</td>\n",
       "      <td>Wicket Keeper</td>\n",
       "      <td>₹0</td>\n",
       "      <td>NO TEAM</td>\n",
       "      <td>0.0</td>\n",
       "    </tr>\n",
       "    <tr>\n",
       "      <th>597</th>\n",
       "      <td>Mihir Hirwani</td>\n",
       "      <td>Indian</td>\n",
       "      <td>Bowler</td>\n",
       "      <td>₹0</td>\n",
       "      <td>NO TEAM</td>\n",
       "      <td>0.0</td>\n",
       "    </tr>\n",
       "    <tr>\n",
       "      <th>598</th>\n",
       "      <td>Sairaj Patil</td>\n",
       "      <td>Indian</td>\n",
       "      <td>All-Rounder</td>\n",
       "      <td>₹0</td>\n",
       "      <td>NO TEAM</td>\n",
       "      <td>0.0</td>\n",
       "    </tr>\n",
       "    <tr>\n",
       "      <th>599</th>\n",
       "      <td>Monu Singh</td>\n",
       "      <td>Indian</td>\n",
       "      <td>Bowler</td>\n",
       "      <td>₹0</td>\n",
       "      <td>NO TEAM</td>\n",
       "      <td>0.0</td>\n",
       "    </tr>\n",
       "  </tbody>\n",
       "</table>\n",
       "<p>600 rows × 6 columns</p>\n",
       "</div>"
      ],
      "text/plain": [
       "              Players Nationality           Type     Price Paid     Team  \\\n",
       "0       Robin Uthappa      Indian        Batsman   ₹2,00,00,000      CSK   \n",
       "1        Dwayne Bravo    Overseas    All-Rounder   ₹4,40,00,000      CSK   \n",
       "2       Ambati Rayudu      Indian  Wicket Keeper   ₹6,75,00,000      CSK   \n",
       "3       Deepak Chahar      Indian         Bowler  ₹14,00,00,000      CSK   \n",
       "4    C.Hari Nishaanth      Indian        Batsman     ₹20,00,000      CSK   \n",
       "..                ...         ...            ...            ...      ...   \n",
       "595    K Nitish Reddy      Indian        Batsman             ₹0  NO TEAM   \n",
       "596     Hardik Tamore      Indian  Wicket Keeper             ₹0  NO TEAM   \n",
       "597     Mihir Hirwani      Indian         Bowler             ₹0  NO TEAM   \n",
       "598      Sairaj Patil      Indian    All-Rounder             ₹0  NO TEAM   \n",
       "599        Monu Singh      Indian         Bowler             ₹0  NO TEAM   \n",
       "\n",
       "     Total Price  \n",
       "0     20000000.0  \n",
       "1     44000000.0  \n",
       "2     67500000.0  \n",
       "3    140000000.0  \n",
       "4      2000000.0  \n",
       "..           ...  \n",
       "595          0.0  \n",
       "596          0.0  \n",
       "597          0.0  \n",
       "598          0.0  \n",
       "599          0.0  \n",
       "\n",
       "[600 rows x 6 columns]"
      ]
     },
     "execution_count": 13,
     "metadata": {},
     "output_type": "execute_result"
    }
   ],
   "source": [
    "ipl['Total Price'] = ipl['Total Price'].fillna(0)\n",
    "ipl['Price Paid'] = ipl['Price Paid'].fillna('₹0')\n",
    "ipl['Team'] = ipl['Team'].fillna('NO TEAM')\n",
    "ipl"
   ]
  },
  {
   "cell_type": "code",
   "execution_count": 14,
   "id": "1d9886c6",
   "metadata": {},
   "outputs": [],
   "source": [
    "def status(team):\n",
    "    if team == 'NO TEAM':\n",
    "        return 'UNSOLD'\n",
    "    else:\n",
    "        return 'SOLD'"
   ]
  },
  {
   "cell_type": "code",
   "execution_count": 15,
   "id": "cefaa44f",
   "metadata": {},
   "outputs": [
    {
     "data": {
      "text/html": [
       "<div>\n",
       "<style scoped>\n",
       "    .dataframe tbody tr th:only-of-type {\n",
       "        vertical-align: middle;\n",
       "    }\n",
       "\n",
       "    .dataframe tbody tr th {\n",
       "        vertical-align: top;\n",
       "    }\n",
       "\n",
       "    .dataframe thead th {\n",
       "        text-align: right;\n",
       "    }\n",
       "</style>\n",
       "<table border=\"1\" class=\"dataframe\">\n",
       "  <thead>\n",
       "    <tr style=\"text-align: right;\">\n",
       "      <th></th>\n",
       "      <th>Players</th>\n",
       "      <th>Nationality</th>\n",
       "      <th>Type</th>\n",
       "      <th>Price Paid</th>\n",
       "      <th>Team</th>\n",
       "      <th>Total Price</th>\n",
       "      <th>Status</th>\n",
       "    </tr>\n",
       "  </thead>\n",
       "  <tbody>\n",
       "    <tr>\n",
       "      <th>0</th>\n",
       "      <td>Robin Uthappa</td>\n",
       "      <td>Indian</td>\n",
       "      <td>Batsman</td>\n",
       "      <td>₹2,00,00,000</td>\n",
       "      <td>CSK</td>\n",
       "      <td>20000000.0</td>\n",
       "      <td>SOLD</td>\n",
       "    </tr>\n",
       "    <tr>\n",
       "      <th>1</th>\n",
       "      <td>Dwayne Bravo</td>\n",
       "      <td>Overseas</td>\n",
       "      <td>All-Rounder</td>\n",
       "      <td>₹4,40,00,000</td>\n",
       "      <td>CSK</td>\n",
       "      <td>44000000.0</td>\n",
       "      <td>SOLD</td>\n",
       "    </tr>\n",
       "    <tr>\n",
       "      <th>2</th>\n",
       "      <td>Ambati Rayudu</td>\n",
       "      <td>Indian</td>\n",
       "      <td>Wicket Keeper</td>\n",
       "      <td>₹6,75,00,000</td>\n",
       "      <td>CSK</td>\n",
       "      <td>67500000.0</td>\n",
       "      <td>SOLD</td>\n",
       "    </tr>\n",
       "    <tr>\n",
       "      <th>3</th>\n",
       "      <td>Deepak Chahar</td>\n",
       "      <td>Indian</td>\n",
       "      <td>Bowler</td>\n",
       "      <td>₹14,00,00,000</td>\n",
       "      <td>CSK</td>\n",
       "      <td>140000000.0</td>\n",
       "      <td>SOLD</td>\n",
       "    </tr>\n",
       "    <tr>\n",
       "      <th>4</th>\n",
       "      <td>C.Hari Nishaanth</td>\n",
       "      <td>Indian</td>\n",
       "      <td>Batsman</td>\n",
       "      <td>₹20,00,000</td>\n",
       "      <td>CSK</td>\n",
       "      <td>2000000.0</td>\n",
       "      <td>SOLD</td>\n",
       "    </tr>\n",
       "    <tr>\n",
       "      <th>...</th>\n",
       "      <td>...</td>\n",
       "      <td>...</td>\n",
       "      <td>...</td>\n",
       "      <td>...</td>\n",
       "      <td>...</td>\n",
       "      <td>...</td>\n",
       "      <td>...</td>\n",
       "    </tr>\n",
       "    <tr>\n",
       "      <th>595</th>\n",
       "      <td>K Nitish Reddy</td>\n",
       "      <td>Indian</td>\n",
       "      <td>Batsman</td>\n",
       "      <td>₹0</td>\n",
       "      <td>NO TEAM</td>\n",
       "      <td>0.0</td>\n",
       "      <td>UNSOLD</td>\n",
       "    </tr>\n",
       "    <tr>\n",
       "      <th>596</th>\n",
       "      <td>Hardik Tamore</td>\n",
       "      <td>Indian</td>\n",
       "      <td>Wicket Keeper</td>\n",
       "      <td>₹0</td>\n",
       "      <td>NO TEAM</td>\n",
       "      <td>0.0</td>\n",
       "      <td>UNSOLD</td>\n",
       "    </tr>\n",
       "    <tr>\n",
       "      <th>597</th>\n",
       "      <td>Mihir Hirwani</td>\n",
       "      <td>Indian</td>\n",
       "      <td>Bowler</td>\n",
       "      <td>₹0</td>\n",
       "      <td>NO TEAM</td>\n",
       "      <td>0.0</td>\n",
       "      <td>UNSOLD</td>\n",
       "    </tr>\n",
       "    <tr>\n",
       "      <th>598</th>\n",
       "      <td>Sairaj Patil</td>\n",
       "      <td>Indian</td>\n",
       "      <td>All-Rounder</td>\n",
       "      <td>₹0</td>\n",
       "      <td>NO TEAM</td>\n",
       "      <td>0.0</td>\n",
       "      <td>UNSOLD</td>\n",
       "    </tr>\n",
       "    <tr>\n",
       "      <th>599</th>\n",
       "      <td>Monu Singh</td>\n",
       "      <td>Indian</td>\n",
       "      <td>Bowler</td>\n",
       "      <td>₹0</td>\n",
       "      <td>NO TEAM</td>\n",
       "      <td>0.0</td>\n",
       "      <td>UNSOLD</td>\n",
       "    </tr>\n",
       "  </tbody>\n",
       "</table>\n",
       "<p>600 rows × 7 columns</p>\n",
       "</div>"
      ],
      "text/plain": [
       "              Players Nationality           Type     Price Paid     Team  \\\n",
       "0       Robin Uthappa      Indian        Batsman   ₹2,00,00,000      CSK   \n",
       "1        Dwayne Bravo    Overseas    All-Rounder   ₹4,40,00,000      CSK   \n",
       "2       Ambati Rayudu      Indian  Wicket Keeper   ₹6,75,00,000      CSK   \n",
       "3       Deepak Chahar      Indian         Bowler  ₹14,00,00,000      CSK   \n",
       "4    C.Hari Nishaanth      Indian        Batsman     ₹20,00,000      CSK   \n",
       "..                ...         ...            ...            ...      ...   \n",
       "595    K Nitish Reddy      Indian        Batsman             ₹0  NO TEAM   \n",
       "596     Hardik Tamore      Indian  Wicket Keeper             ₹0  NO TEAM   \n",
       "597     Mihir Hirwani      Indian         Bowler             ₹0  NO TEAM   \n",
       "598      Sairaj Patil      Indian    All-Rounder             ₹0  NO TEAM   \n",
       "599        Monu Singh      Indian         Bowler             ₹0  NO TEAM   \n",
       "\n",
       "     Total Price  Status  \n",
       "0     20000000.0    SOLD  \n",
       "1     44000000.0    SOLD  \n",
       "2     67500000.0    SOLD  \n",
       "3    140000000.0    SOLD  \n",
       "4      2000000.0    SOLD  \n",
       "..           ...     ...  \n",
       "595          0.0  UNSOLD  \n",
       "596          0.0  UNSOLD  \n",
       "597          0.0  UNSOLD  \n",
       "598          0.0  UNSOLD  \n",
       "599          0.0  UNSOLD  \n",
       "\n",
       "[600 rows x 7 columns]"
      ]
     },
     "execution_count": 15,
     "metadata": {},
     "output_type": "execute_result"
    }
   ],
   "source": [
    "ipl['Status'] = ipl['Team'].apply(status)\n",
    "ipl"
   ]
  },
  {
   "cell_type": "code",
   "execution_count": 16,
   "id": "0978ffe8",
   "metadata": {},
   "outputs": [
    {
     "name": "stdout",
     "output_type": "stream",
     "text": [
      "<class 'pandas.core.frame.DataFrame'>\n",
      "RangeIndex: 600 entries, 0 to 599\n",
      "Data columns (total 7 columns):\n",
      " #   Column       Non-Null Count  Dtype  \n",
      "---  ------       --------------  -----  \n",
      " 0   Players      600 non-null    object \n",
      " 1   Nationality  600 non-null    object \n",
      " 2   Type         600 non-null    object \n",
      " 3   Price Paid   600 non-null    object \n",
      " 4   Team         600 non-null    object \n",
      " 5   Total Price  600 non-null    float64\n",
      " 6   Status       600 non-null    object \n",
      "dtypes: float64(1), object(6)\n",
      "memory usage: 32.9+ KB\n"
     ]
    }
   ],
   "source": [
    "ipl.info()"
   ]
  },
  {
   "cell_type": "code",
   "execution_count": 17,
   "id": "4923b00f",
   "metadata": {
    "scrolled": true
   },
   "outputs": [],
   "source": [
    "filt = ipl.duplicated(keep=False) == True"
   ]
  },
  {
   "cell_type": "code",
   "execution_count": 18,
   "id": "da389b44",
   "metadata": {},
   "outputs": [
    {
     "data": {
      "text/html": [
       "<div>\n",
       "<style scoped>\n",
       "    .dataframe tbody tr th:only-of-type {\n",
       "        vertical-align: middle;\n",
       "    }\n",
       "\n",
       "    .dataframe tbody tr th {\n",
       "        vertical-align: top;\n",
       "    }\n",
       "\n",
       "    .dataframe thead th {\n",
       "        text-align: right;\n",
       "    }\n",
       "</style>\n",
       "<table border=\"1\" class=\"dataframe\">\n",
       "  <thead>\n",
       "    <tr style=\"text-align: right;\">\n",
       "      <th></th>\n",
       "      <th>Players</th>\n",
       "      <th>Nationality</th>\n",
       "      <th>Type</th>\n",
       "      <th>Price Paid</th>\n",
       "      <th>Team</th>\n",
       "      <th>Total Price</th>\n",
       "      <th>Status</th>\n",
       "    </tr>\n",
       "  </thead>\n",
       "  <tbody>\n",
       "    <tr>\n",
       "      <th>216</th>\n",
       "      <td>Amit Mishra</td>\n",
       "      <td>Indian</td>\n",
       "      <td>Bowler</td>\n",
       "      <td>₹0</td>\n",
       "      <td>NO TEAM</td>\n",
       "      <td>0.0</td>\n",
       "      <td>UNSOLD</td>\n",
       "    </tr>\n",
       "    <tr>\n",
       "      <th>478</th>\n",
       "      <td>Amit Mishra</td>\n",
       "      <td>Indian</td>\n",
       "      <td>Bowler</td>\n",
       "      <td>₹0</td>\n",
       "      <td>NO TEAM</td>\n",
       "      <td>0.0</td>\n",
       "      <td>UNSOLD</td>\n",
       "    </tr>\n",
       "    <tr>\n",
       "      <th>487</th>\n",
       "      <td>Shivam Sharma</td>\n",
       "      <td>Indian</td>\n",
       "      <td>All-Rounder</td>\n",
       "      <td>₹0</td>\n",
       "      <td>NO TEAM</td>\n",
       "      <td>0.0</td>\n",
       "      <td>UNSOLD</td>\n",
       "    </tr>\n",
       "    <tr>\n",
       "      <th>536</th>\n",
       "      <td>Shivam Sharma</td>\n",
       "      <td>Indian</td>\n",
       "      <td>All-Rounder</td>\n",
       "      <td>₹0</td>\n",
       "      <td>NO TEAM</td>\n",
       "      <td>0.0</td>\n",
       "      <td>UNSOLD</td>\n",
       "    </tr>\n",
       "  </tbody>\n",
       "</table>\n",
       "</div>"
      ],
      "text/plain": [
       "           Players Nationality         Type Price Paid     Team  Total Price  \\\n",
       "216    Amit Mishra      Indian       Bowler         ₹0  NO TEAM          0.0   \n",
       "478    Amit Mishra      Indian       Bowler         ₹0  NO TEAM          0.0   \n",
       "487  Shivam Sharma      Indian  All-Rounder         ₹0  NO TEAM          0.0   \n",
       "536  Shivam Sharma      Indian  All-Rounder         ₹0  NO TEAM          0.0   \n",
       "\n",
       "     Status  \n",
       "216  UNSOLD  \n",
       "478  UNSOLD  \n",
       "487  UNSOLD  \n",
       "536  UNSOLD  "
      ]
     },
     "execution_count": 18,
     "metadata": {},
     "output_type": "execute_result"
    }
   ],
   "source": [
    "ipl.loc[filt]"
   ]
  },
  {
   "cell_type": "code",
   "execution_count": 19,
   "id": "46c592dd",
   "metadata": {},
   "outputs": [],
   "source": [
    "ipl.drop_duplicates(ignore_index=True, inplace=True)"
   ]
  },
  {
   "cell_type": "code",
   "execution_count": 20,
   "id": "5c291def",
   "metadata": {},
   "outputs": [
    {
     "name": "stdout",
     "output_type": "stream",
     "text": [
      "<class 'pandas.core.frame.DataFrame'>\n",
      "RangeIndex: 598 entries, 0 to 597\n",
      "Data columns (total 7 columns):\n",
      " #   Column       Non-Null Count  Dtype  \n",
      "---  ------       --------------  -----  \n",
      " 0   Players      598 non-null    object \n",
      " 1   Nationality  598 non-null    object \n",
      " 2   Type         598 non-null    object \n",
      " 3   Price Paid   598 non-null    object \n",
      " 4   Team         598 non-null    object \n",
      " 5   Total Price  598 non-null    float64\n",
      " 6   Status       598 non-null    object \n",
      "dtypes: float64(1), object(6)\n",
      "memory usage: 32.8+ KB\n"
     ]
    }
   ],
   "source": [
    "ipl.info()"
   ]
  },
  {
   "cell_type": "code",
   "execution_count": 21,
   "id": "3af863fe",
   "metadata": {},
   "outputs": [
    {
     "data": {
      "text/plain": [
       "598"
      ]
     },
     "execution_count": 21,
     "metadata": {},
     "output_type": "execute_result"
    }
   ],
   "source": [
    "# Total no of players participated in auction\n",
    "\n",
    "ipl['Players'].count()"
   ]
  },
  {
   "cell_type": "code",
   "execution_count": 22,
   "id": "9cb5b514",
   "metadata": {},
   "outputs": [
    {
     "data": {
      "text/plain": [
       "All-Rounder      231\n",
       "Bowler           205\n",
       "Batsman          103\n",
       "Wicket Keeper     59\n",
       "Name: Type, dtype: int64"
      ]
     },
     "execution_count": 22,
     "metadata": {},
     "output_type": "execute_result"
    }
   ],
   "source": [
    "# Types of players\n",
    "\n",
    "types = ipl['Type'].value_counts()\n",
    "types"
   ]
  },
  {
   "cell_type": "code",
   "execution_count": 23,
   "id": "75484218",
   "metadata": {},
   "outputs": [
    {
     "data": {
      "text/plain": [
       "[]"
      ]
     },
     "execution_count": 23,
     "metadata": {},
     "output_type": "execute_result"
    },
    {
     "data": {
      "image/png": "[encoded data removed]",
      "text/plain": [
       "<Figure size 432x288 with 1 Axes>"
      ]
     },
     "metadata": {},
     "output_type": "display_data"
    }
   ],
   "source": [
    "plt.pie(types.values, labels = types.index, labeldistance=1.2, autopct='%1.2f%%', shadow=True, startangle=90)\n",
    "plt.title('Role wise Players Distribution', fontsize = 15)\n",
    "plt.plot()"
   ]
  },
  {
   "cell_type": "code",
   "execution_count": 24,
   "id": "1c777248",
   "metadata": {},
   "outputs": [
    {
     "data": {
      "image/png": "[encoded data removed]",
      "text/plain": [
       "<Figure size 720x360 with 1 Axes>"
      ]
     },
     "metadata": {
      "needs_background": "light"
     },
     "output_type": "display_data"
    }
   ],
   "source": [
    "# Sold vs unsold Players comparison\n",
    "\n",
    "plt.figure(figsize=(10,5))\n",
    "fig = sns.countplot(ipl['Status'], palette=['Green', 'Red'])\n",
    "plt.xlabel('Sold or Unsold')\n",
    "plt.ylabel('Number of Players')\n",
    "plt.title('Sold vs Unsold', fontsize = 15)\n",
    "plt.plot()\n",
    "\n",
    "# function to put label on top of bars\n",
    "\n",
    "for p in fig.patches:\n",
    "    fig.annotate(format(p.get_height(), '.0f'), (p.get_x() + p.get_width()/2, p.get_height()),\n",
    "                 ha = 'center', va = 'center',\n",
    "                 xytext = (0,4), textcoords = 'offset points')"
   ]
  },
  {
   "cell_type": "code",
   "execution_count": 25,
   "id": "5e633150",
   "metadata": {},
   "outputs": [
    {
     "data": {
      "text/plain": [
       "Status\n",
       "SOLD      204\n",
       "UNSOLD    394\n",
       "dtype: int64"
      ]
     },
     "execution_count": 25,
     "metadata": {},
     "output_type": "execute_result"
    }
   ],
   "source": [
    "ipl.groupby('Status').size()"
   ]
  },
  {
   "cell_type": "code",
   "execution_count": 26,
   "id": "b5bf3f62",
   "metadata": {},
   "outputs": [
    {
     "data": {
      "image/png": "[encoded data removed]",
      "text/plain": [
       "<Figure size 1440x720 with 1 Axes>"
      ]
     },
     "metadata": {
      "needs_background": "light"
     },
     "output_type": "display_data"
    }
   ],
   "source": [
    "# Total players bought by each team\n",
    "\n",
    "plt.figure(figsize=(20,10))\n",
    "fig = sns.countplot(ipl.loc[ipl['Team'] != 'NO TEAM', 'Team'])\n",
    "plt.xlabel('Team Names')\n",
    "plt.ylabel('Number of Players')\n",
    "plt.title('Players bought by each Team', fontsize = 15)\n",
    "plt.plot()\n",
    "\n",
    "# function to put label on top of bars\n",
    "\n",
    "for p in fig.patches:\n",
    "    fig.annotate(format(p.get_height(), '.0f'), (p.get_x() + p.get_width()/2, p.get_height()),\n",
    "                 ha = 'center', va = 'center',\n",
    "                 xytext = (0,4), textcoords = 'offset points')"
   ]
  },
  {
   "cell_type": "code",
   "execution_count": 27,
   "id": "f6accc19",
   "metadata": {},
   "outputs": [
    {
     "data": {
      "text/plain": [
       "Team\n",
       "CSK         21\n",
       "DC          20\n",
       "GT          20\n",
       "KKR         21\n",
       "LSG         18\n",
       "MI          21\n",
       "NO TEAM    394\n",
       "PK          23\n",
       "RCB         19\n",
       "RR          21\n",
       "SRH         20\n",
       "dtype: int64"
      ]
     },
     "execution_count": 27,
     "metadata": {},
     "output_type": "execute_result"
    }
   ],
   "source": [
    "ipl.groupby('Team').size()"
   ]
  },
  {
   "cell_type": "code",
   "execution_count": 28,
   "id": "bba7423c",
   "metadata": {
    "scrolled": false
   },
   "outputs": [
    {
     "data": {
      "text/plain": [
       "(array([0, 1, 2, 3, 4, 5, 6, 7, 8, 9]),\n",
       " [Text(0, 0, 'CSK'),\n",
       "  Text(1, 0, 'DC'),\n",
       "  Text(2, 0, 'GT'),\n",
       "  Text(3, 0, 'KKR'),\n",
       "  Text(4, 0, 'LSG'),\n",
       "  Text(5, 0, 'MI'),\n",
       "  Text(6, 0, 'PK'),\n",
       "  Text(7, 0, 'RR'),\n",
       "  Text(8, 0, 'RCB'),\n",
       "  Text(9, 0, 'SRH')])"
      ]
     },
     "execution_count": 28,
     "metadata": {},
     "output_type": "execute_result"
    },
    {
     "data": {
      "image/png": "[encoded data removed]",
      "text/plain": [
       "<Figure size 1440x720 with 1 Axes>"
      ]
     },
     "metadata": {
      "needs_background": "light"
     },
     "output_type": "display_data"
    }
   ],
   "source": [
    "# Types of players in each team\n",
    "\n",
    "plt.figure(figsize=(20,10))\n",
    "fig = sns.countplot(ipl.loc[ipl['Team'] != 'NO TEAM', 'Team'], hue = ipl['Type'])\n",
    "plt.xlabel('Team Names')\n",
    "plt.ylabel('Number of Players')\n",
    "plt.title('Type of players in each Team', fontsize = 15)\n",
    "# plt.plot()\n",
    "plt.xticks(rotation = 50)"
   ]
  },
  {
   "cell_type": "code",
   "execution_count": 29,
   "id": "d230b2c6",
   "metadata": {},
   "outputs": [],
   "source": [
    "# highest amount spent on a player by each team\n",
    "\n",
    "max_amt_per_team = ipl.loc[ipl['Team'] != 'NO TEAM'].groupby('Team', as_index = False)['Total Price'].max().sort_values(by = 'Total Price', ascending = False)"
   ]
  },
  {
   "cell_type": "code",
   "execution_count": 30,
   "id": "10fe3fe3",
   "metadata": {},
   "outputs": [
    {
     "data": {
      "text/plain": [
       "Text(0, 0.5, 'Max Amount')"
      ]
     },
     "execution_count": 30,
     "metadata": {},
     "output_type": "execute_result"
    },
    {
     "data": {
      "image/png": "[encoded data removed]",
      "text/plain": [
       "<Figure size 1080x504 with 1 Axes>"
      ]
     },
     "metadata": {
      "needs_background": "light"
     },
     "output_type": "display_data"
    }
   ],
   "source": [
    "plt.figure(figsize=(15,7))\n",
    "plt.bar(max_amt_per_team['Team'], max_amt_per_team['Total Price'], color = 'Pink')\n",
    "plt.title('Max amount paid per Team', fontsize = 15)\n",
    "plt.xlabel('Team')\n",
    "plt.ylabel('Max Amount')"
   ]
  },
  {
   "cell_type": "code",
   "execution_count": 31,
   "id": "964488e5",
   "metadata": {
    "scrolled": true
   },
   "outputs": [
    {
     "data": {
      "text/html": [
       "<div>\n",
       "<style scoped>\n",
       "    .dataframe tbody tr th:only-of-type {\n",
       "        vertical-align: middle;\n",
       "    }\n",
       "\n",
       "    .dataframe tbody tr th {\n",
       "        vertical-align: top;\n",
       "    }\n",
       "\n",
       "    .dataframe thead th {\n",
       "        text-align: right;\n",
       "    }\n",
       "</style>\n",
       "<table border=\"1\" class=\"dataframe\">\n",
       "  <thead>\n",
       "    <tr style=\"text-align: right;\">\n",
       "      <th></th>\n",
       "      <th>Players</th>\n",
       "      <th>Type</th>\n",
       "      <th>Price Paid</th>\n",
       "      <th>Team</th>\n",
       "    </tr>\n",
       "  </thead>\n",
       "  <tbody>\n",
       "    <tr>\n",
       "      <th>3</th>\n",
       "      <td>Deepak Chahar</td>\n",
       "      <td>Bowler</td>\n",
       "      <td>₹14,00,00,000</td>\n",
       "      <td>CSK</td>\n",
       "    </tr>\n",
       "    <tr>\n",
       "      <th>24</th>\n",
       "      <td>Shardul Thakur</td>\n",
       "      <td>Bowler</td>\n",
       "      <td>₹10,75,00,000</td>\n",
       "      <td>DC</td>\n",
       "    </tr>\n",
       "    <tr>\n",
       "      <th>148</th>\n",
       "      <td>Prasidh Krishna</td>\n",
       "      <td>Bowler</td>\n",
       "      <td>₹10,00,00,000</td>\n",
       "      <td>RR</td>\n",
       "    </tr>\n",
       "    <tr>\n",
       "      <th>88</th>\n",
       "      <td>Avesh Khan</td>\n",
       "      <td>Bowler</td>\n",
       "      <td>₹10,00,00,000</td>\n",
       "      <td>LSG</td>\n",
       "    </tr>\n",
       "    <tr>\n",
       "      <th>46</th>\n",
       "      <td>Lockie Ferguson</td>\n",
       "      <td>Bowler</td>\n",
       "      <td>₹10,00,00,000</td>\n",
       "      <td>GT</td>\n",
       "    </tr>\n",
       "  </tbody>\n",
       "</table>\n",
       "</div>"
      ],
      "text/plain": [
       "             Players    Type     Price Paid Team\n",
       "3      Deepak Chahar  Bowler  ₹14,00,00,000  CSK\n",
       "24    Shardul Thakur  Bowler  ₹10,75,00,000   DC\n",
       "148  Prasidh Krishna  Bowler  ₹10,00,00,000   RR\n",
       "88        Avesh Khan  Bowler  ₹10,00,00,000  LSG\n",
       "46   Lockie Ferguson  Bowler  ₹10,00,00,000   GT"
      ]
     },
     "execution_count": 31,
     "metadata": {},
     "output_type": "execute_result"
    }
   ],
   "source": [
    "# Top bowlers\n",
    "\n",
    "top_bowlers = ipl.loc[(ipl['Team'] != 'NO TEAM') & (ipl['Type'] == 'Bowler')].sort_values('Total Price', ascending = False).head(5)\n",
    "top_bowlers[['Players', 'Type', 'Price Paid', 'Team']]"
   ]
  },
  {
   "cell_type": "code",
   "execution_count": 32,
   "id": "7bd6b692",
   "metadata": {},
   "outputs": [
    {
     "data": {
      "text/plain": [
       "Text(0, 0.5, 'Amount')"
      ]
     },
     "execution_count": 32,
     "metadata": {},
     "output_type": "execute_result"
    },
    {
     "data": {
      "image/png": "[encoded data removed]",
      "text/plain": [
       "<Figure size 720x504 with 1 Axes>"
      ]
     },
     "metadata": {
      "needs_background": "light"
     },
     "output_type": "display_data"
    }
   ],
   "source": [
    "plt.figure(figsize=(10,7))\n",
    "plt.bar(top_bowlers['Players'], top_bowlers['Total Price'], color = 'Red')\n",
    "plt.title('Top 5 Bowlers', fontsize = 15)\n",
    "plt.xlabel('Name')\n",
    "plt.ylabel('Amount')"
   ]
  },
  {
   "cell_type": "code",
   "execution_count": 33,
   "id": "4cf9d647",
   "metadata": {
    "scrolled": true
   },
   "outputs": [
    {
     "data": {
      "text/html": [
       "<div>\n",
       "<style scoped>\n",
       "    .dataframe tbody tr th:only-of-type {\n",
       "        vertical-align: middle;\n",
       "    }\n",
       "\n",
       "    .dataframe tbody tr th {\n",
       "        vertical-align: top;\n",
       "    }\n",
       "\n",
       "    .dataframe thead th {\n",
       "        text-align: right;\n",
       "    }\n",
       "</style>\n",
       "<table border=\"1\" class=\"dataframe\">\n",
       "  <thead>\n",
       "    <tr style=\"text-align: right;\">\n",
       "      <th></th>\n",
       "      <th>Players</th>\n",
       "      <th>Type</th>\n",
       "      <th>Price Paid</th>\n",
       "      <th>Team</th>\n",
       "    </tr>\n",
       "  </thead>\n",
       "  <tbody>\n",
       "    <tr>\n",
       "      <th>62</th>\n",
       "      <td>Shreyas Iyer</td>\n",
       "      <td>Batsman</td>\n",
       "      <td>₹12,25,00,000</td>\n",
       "      <td>KKR</td>\n",
       "    </tr>\n",
       "    <tr>\n",
       "      <th>189</th>\n",
       "      <td>Rahul Tripathi</td>\n",
       "      <td>Batsman</td>\n",
       "      <td>₹8,50,00,000</td>\n",
       "      <td>SRH</td>\n",
       "    </tr>\n",
       "    <tr>\n",
       "      <th>146</th>\n",
       "      <td>Shimron Hetmyer</td>\n",
       "      <td>Batsman</td>\n",
       "      <td>₹8,50,00,000</td>\n",
       "      <td>RR</td>\n",
       "    </tr>\n",
       "    <tr>\n",
       "      <th>121</th>\n",
       "      <td>Shikhar Dhawan</td>\n",
       "      <td>Batsman</td>\n",
       "      <td>₹8,25,00,000</td>\n",
       "      <td>PK</td>\n",
       "    </tr>\n",
       "    <tr>\n",
       "      <th>147</th>\n",
       "      <td>Devdutt Padikkal</td>\n",
       "      <td>Batsman</td>\n",
       "      <td>₹7,75,00,000</td>\n",
       "      <td>RR</td>\n",
       "    </tr>\n",
       "  </tbody>\n",
       "</table>\n",
       "</div>"
      ],
      "text/plain": [
       "              Players     Type     Price Paid Team\n",
       "62       Shreyas Iyer  Batsman  ₹12,25,00,000  KKR\n",
       "189    Rahul Tripathi  Batsman   ₹8,50,00,000  SRH\n",
       "146   Shimron Hetmyer  Batsman   ₹8,50,00,000   RR\n",
       "121    Shikhar Dhawan  Batsman   ₹8,25,00,000   PK\n",
       "147  Devdutt Padikkal  Batsman   ₹7,75,00,000   RR"
      ]
     },
     "execution_count": 33,
     "metadata": {},
     "output_type": "execute_result"
    }
   ],
   "source": [
    "# Top batters\n",
    "\n",
    "top_batters = ipl.loc[(ipl['Team'] != 'NO TEAM') & (ipl['Type'] == 'Batsman')].sort_values('Total Price', ascending = False).head(5)\n",
    "top_batters[['Players', 'Type', 'Price Paid', 'Team']]"
   ]
  },
  {
   "cell_type": "code",
   "execution_count": 34,
   "id": "569ee4ee",
   "metadata": {},
   "outputs": [
    {
     "data": {
      "text/plain": [
       "Text(0, 0.5, 'Amount')"
      ]
     },
     "execution_count": 34,
     "metadata": {},
     "output_type": "execute_result"
    },
    {
     "data": {
      "image/png": "[encoded data removed]",
      "text/plain": [
       "<Figure size 720x504 with 1 Axes>"
      ]
     },
     "metadata": {
      "needs_background": "light"
     },
     "output_type": "display_data"
    }
   ],
   "source": [
    "plt.figure(figsize=(10,7))\n",
    "plt.bar(top_batters['Players'], top_batters['Total Price'])\n",
    "plt.title('Top 5 Batters', fontsize = 15)\n",
    "plt.xlabel('Name')\n",
    "plt.ylabel('Amount')"
   ]
  },
  {
   "cell_type": "code",
   "execution_count": 35,
   "id": "093a48d0",
   "metadata": {
    "scrolled": true
   },
   "outputs": [
    {
     "data": {
      "text/html": [
       "<div>\n",
       "<style scoped>\n",
       "    .dataframe tbody tr th:only-of-type {\n",
       "        vertical-align: middle;\n",
       "    }\n",
       "\n",
       "    .dataframe tbody tr th {\n",
       "        vertical-align: top;\n",
       "    }\n",
       "\n",
       "    .dataframe thead th {\n",
       "        text-align: right;\n",
       "    }\n",
       "</style>\n",
       "<table border=\"1\" class=\"dataframe\">\n",
       "  <thead>\n",
       "    <tr style=\"text-align: right;\">\n",
       "      <th></th>\n",
       "      <th>Players</th>\n",
       "      <th>Type</th>\n",
       "      <th>Price Paid</th>\n",
       "      <th>Team</th>\n",
       "    </tr>\n",
       "  </thead>\n",
       "  <tbody>\n",
       "    <tr>\n",
       "      <th>130</th>\n",
       "      <td>Liam Livingstone</td>\n",
       "      <td>All-Rounder</td>\n",
       "      <td>₹11,50,00,000</td>\n",
       "      <td>PK</td>\n",
       "    </tr>\n",
       "    <tr>\n",
       "      <th>166</th>\n",
       "      <td>Wanindu Hasaranga</td>\n",
       "      <td>All-Rounder</td>\n",
       "      <td>₹10,75,00,000</td>\n",
       "      <td>RCB</td>\n",
       "    </tr>\n",
       "    <tr>\n",
       "      <th>167</th>\n",
       "      <td>Harshal Patel</td>\n",
       "      <td>All-Rounder</td>\n",
       "      <td>₹10,75,00,000</td>\n",
       "      <td>RCB</td>\n",
       "    </tr>\n",
       "    <tr>\n",
       "      <th>48</th>\n",
       "      <td>Rahul Tewatia</td>\n",
       "      <td>All-Rounder</td>\n",
       "      <td>₹9,00,00,000</td>\n",
       "      <td>GT</td>\n",
       "    </tr>\n",
       "    <tr>\n",
       "      <th>126</th>\n",
       "      <td>Shahrukh Khan</td>\n",
       "      <td>All-Rounder</td>\n",
       "      <td>₹9,00,00,000</td>\n",
       "      <td>PK</td>\n",
       "    </tr>\n",
       "  </tbody>\n",
       "</table>\n",
       "</div>"
      ],
      "text/plain": [
       "               Players         Type     Price Paid Team\n",
       "130   Liam Livingstone  All-Rounder  ₹11,50,00,000   PK\n",
       "166  Wanindu Hasaranga  All-Rounder  ₹10,75,00,000  RCB\n",
       "167      Harshal Patel  All-Rounder  ₹10,75,00,000  RCB\n",
       "48       Rahul Tewatia  All-Rounder   ₹9,00,00,000   GT\n",
       "126      Shahrukh Khan  All-Rounder   ₹9,00,00,000   PK"
      ]
     },
     "execution_count": 35,
     "metadata": {},
     "output_type": "execute_result"
    }
   ],
   "source": [
    "# Top all rounders\n",
    "\n",
    "top_all_rounders = ipl.loc[(ipl['Team'] != 'NO TEAM') & (ipl['Type'] == 'All-Rounder')].sort_values('Total Price', ascending = False).head(5)\n",
    "top_all_rounders[['Players', 'Type', 'Price Paid', 'Team']]"
   ]
  },
  {
   "cell_type": "code",
   "execution_count": 36,
   "id": "ff96137b",
   "metadata": {},
   "outputs": [
    {
     "data": {
      "text/plain": [
       "Text(0, 0.5, 'Amount')"
      ]
     },
     "execution_count": 36,
     "metadata": {},
     "output_type": "execute_result"
    },
    {
     "data": {
      "image/png": "[encoded data removed]",
      "text/plain": [
       "<Figure size 720x504 with 1 Axes>"
      ]
     },
     "metadata": {
      "needs_background": "light"
     },
     "output_type": "display_data"
    }
   ],
   "source": [
    "plt.figure(figsize=(10,7))\n",
    "plt.bar(top_all_rounders['Players'], top_all_rounders['Total Price'], color = 'Orange')\n",
    "plt.title('Top 5 All - Rounders', fontsize = 15)\n",
    "plt.xlabel('Name')\n",
    "plt.ylabel('Amount')"
   ]
  },
  {
   "cell_type": "code",
   "execution_count": 37,
   "id": "8e92e389",
   "metadata": {
    "scrolled": true
   },
   "outputs": [
    {
     "data": {
      "text/html": [
       "<div>\n",
       "<style scoped>\n",
       "    .dataframe tbody tr th:only-of-type {\n",
       "        vertical-align: middle;\n",
       "    }\n",
       "\n",
       "    .dataframe tbody tr th {\n",
       "        vertical-align: top;\n",
       "    }\n",
       "\n",
       "    .dataframe thead th {\n",
       "        text-align: right;\n",
       "    }\n",
       "</style>\n",
       "<table border=\"1\" class=\"dataframe\">\n",
       "  <thead>\n",
       "    <tr style=\"text-align: right;\">\n",
       "      <th></th>\n",
       "      <th>Players</th>\n",
       "      <th>Type</th>\n",
       "      <th>Price Paid</th>\n",
       "      <th>Team</th>\n",
       "    </tr>\n",
       "  </thead>\n",
       "  <tbody>\n",
       "    <tr>\n",
       "      <th>100</th>\n",
       "      <td>Ishan Kishan</td>\n",
       "      <td>Wicket Keeper</td>\n",
       "      <td>₹15,25,00,000</td>\n",
       "      <td>MI</td>\n",
       "    </tr>\n",
       "    <tr>\n",
       "      <th>185</th>\n",
       "      <td>Nicholas Pooran</td>\n",
       "      <td>Wicket Keeper</td>\n",
       "      <td>₹10,75,00,000</td>\n",
       "      <td>SRH</td>\n",
       "    </tr>\n",
       "    <tr>\n",
       "      <th>2</th>\n",
       "      <td>Ambati Rayudu</td>\n",
       "      <td>Wicket Keeper</td>\n",
       "      <td>₹6,75,00,000</td>\n",
       "      <td>CSK</td>\n",
       "    </tr>\n",
       "    <tr>\n",
       "      <th>123</th>\n",
       "      <td>Jonny Bairstow</td>\n",
       "      <td>Wicket Keeper</td>\n",
       "      <td>₹6,75,00,000</td>\n",
       "      <td>PK</td>\n",
       "    </tr>\n",
       "    <tr>\n",
       "      <th>82</th>\n",
       "      <td>Quinton De Kock</td>\n",
       "      <td>Wicket Keeper</td>\n",
       "      <td>₹6,75,00,000</td>\n",
       "      <td>LSG</td>\n",
       "    </tr>\n",
       "  </tbody>\n",
       "</table>\n",
       "</div>"
      ],
      "text/plain": [
       "             Players           Type     Price Paid Team\n",
       "100     Ishan Kishan  Wicket Keeper  ₹15,25,00,000   MI\n",
       "185  Nicholas Pooran  Wicket Keeper  ₹10,75,00,000  SRH\n",
       "2      Ambati Rayudu  Wicket Keeper   ₹6,75,00,000  CSK\n",
       "123   Jonny Bairstow  Wicket Keeper   ₹6,75,00,000   PK\n",
       "82   Quinton De Kock  Wicket Keeper   ₹6,75,00,000  LSG"
      ]
     },
     "execution_count": 37,
     "metadata": {},
     "output_type": "execute_result"
    }
   ],
   "source": [
    "# Top wicket keepers\n",
    "\n",
    "top_wicket_keepers = ipl.loc[(ipl['Team'] != 'NO TEAM') & (ipl['Type'] == 'Wicket Keeper')].sort_values('Total Price', ascending = False).head(5)\n",
    "top_wicket_keepers[['Players', 'Type', 'Price Paid', 'Team']]"
   ]
  },
  {
   "cell_type": "code",
   "execution_count": 38,
   "id": "79dbceba",
   "metadata": {},
   "outputs": [
    {
     "data": {
      "text/plain": [
       "Text(0, 0.5, 'Amount')"
      ]
     },
     "execution_count": 38,
     "metadata": {},
     "output_type": "execute_result"
    },
    {
     "data": {
      "image/png": "[encoded data removed]",
      "text/plain": [
       "<Figure size 720x504 with 1 Axes>"
      ]
     },
     "metadata": {
      "needs_background": "light"
     },
     "output_type": "display_data"
    }
   ],
   "source": [
    "plt.figure(figsize=(10,7))\n",
    "plt.bar(top_wicket_keepers['Players'], top_wicket_keepers['Total Price'], color = 'Green')\n",
    "plt.title('Top 5 Wicket - Keepers', fontsize = 15)\n",
    "plt.xlabel('Name')\n",
    "plt.ylabel('Amount')"
   ]
  },
  {
   "cell_type": "code",
   "execution_count": 39,
   "id": "3ab86284",
   "metadata": {
    "scrolled": true
   },
   "outputs": [
    {
     "data": {
      "text/html": [
       "<div>\n",
       "<style scoped>\n",
       "    .dataframe tbody tr th:only-of-type {\n",
       "        vertical-align: middle;\n",
       "    }\n",
       "\n",
       "    .dataframe tbody tr th {\n",
       "        vertical-align: top;\n",
       "    }\n",
       "\n",
       "    .dataframe thead th {\n",
       "        text-align: right;\n",
       "    }\n",
       "</style>\n",
       "<table border=\"1\" class=\"dataframe\">\n",
       "  <thead>\n",
       "    <tr style=\"text-align: right;\">\n",
       "      <th></th>\n",
       "      <th>Players</th>\n",
       "      <th>Type</th>\n",
       "      <th>Price Paid</th>\n",
       "      <th>Team</th>\n",
       "    </tr>\n",
       "  </thead>\n",
       "  <tbody>\n",
       "    <tr>\n",
       "      <th>100</th>\n",
       "      <td>Ishan Kishan</td>\n",
       "      <td>Wicket Keeper</td>\n",
       "      <td>₹15,25,00,000</td>\n",
       "      <td>MI</td>\n",
       "    </tr>\n",
       "    <tr>\n",
       "      <th>3</th>\n",
       "      <td>Deepak Chahar</td>\n",
       "      <td>Bowler</td>\n",
       "      <td>₹14,00,00,000</td>\n",
       "      <td>CSK</td>\n",
       "    </tr>\n",
       "    <tr>\n",
       "      <th>62</th>\n",
       "      <td>Shreyas Iyer</td>\n",
       "      <td>Batsman</td>\n",
       "      <td>₹12,25,00,000</td>\n",
       "      <td>KKR</td>\n",
       "    </tr>\n",
       "    <tr>\n",
       "      <th>24</th>\n",
       "      <td>Shardul Thakur</td>\n",
       "      <td>Bowler</td>\n",
       "      <td>₹10,75,00,000</td>\n",
       "      <td>DC</td>\n",
       "    </tr>\n",
       "    <tr>\n",
       "      <th>167</th>\n",
       "      <td>Harshal Patel</td>\n",
       "      <td>All-Rounder</td>\n",
       "      <td>₹10,75,00,000</td>\n",
       "      <td>RCB</td>\n",
       "    </tr>\n",
       "    <tr>\n",
       "      <th>88</th>\n",
       "      <td>Avesh Khan</td>\n",
       "      <td>Bowler</td>\n",
       "      <td>₹10,00,00,000</td>\n",
       "      <td>LSG</td>\n",
       "    </tr>\n",
       "    <tr>\n",
       "      <th>148</th>\n",
       "      <td>Prasidh Krishna</td>\n",
       "      <td>Bowler</td>\n",
       "      <td>₹10,00,00,000</td>\n",
       "      <td>RR</td>\n",
       "    </tr>\n",
       "    <tr>\n",
       "      <th>48</th>\n",
       "      <td>Rahul Tewatia</td>\n",
       "      <td>All-Rounder</td>\n",
       "      <td>₹9,00,00,000</td>\n",
       "      <td>GT</td>\n",
       "    </tr>\n",
       "    <tr>\n",
       "      <th>126</th>\n",
       "      <td>Shahrukh Khan</td>\n",
       "      <td>All-Rounder</td>\n",
       "      <td>₹9,00,00,000</td>\n",
       "      <td>PK</td>\n",
       "    </tr>\n",
       "    <tr>\n",
       "      <th>184</th>\n",
       "      <td>Washington Sundar</td>\n",
       "      <td>All-Rounder</td>\n",
       "      <td>₹8,75,00,000</td>\n",
       "      <td>SRH</td>\n",
       "    </tr>\n",
       "  </tbody>\n",
       "</table>\n",
       "</div>"
      ],
      "text/plain": [
       "               Players           Type     Price Paid Team\n",
       "100       Ishan Kishan  Wicket Keeper  ₹15,25,00,000   MI\n",
       "3        Deepak Chahar         Bowler  ₹14,00,00,000  CSK\n",
       "62        Shreyas Iyer        Batsman  ₹12,25,00,000  KKR\n",
       "24      Shardul Thakur         Bowler  ₹10,75,00,000   DC\n",
       "167      Harshal Patel    All-Rounder  ₹10,75,00,000  RCB\n",
       "88          Avesh Khan         Bowler  ₹10,00,00,000  LSG\n",
       "148    Prasidh Krishna         Bowler  ₹10,00,00,000   RR\n",
       "48       Rahul Tewatia    All-Rounder   ₹9,00,00,000   GT\n",
       "126      Shahrukh Khan    All-Rounder   ₹9,00,00,000   PK\n",
       "184  Washington Sundar    All-Rounder   ₹8,75,00,000  SRH"
      ]
     },
     "execution_count": 39,
     "metadata": {},
     "output_type": "execute_result"
    }
   ],
   "source": [
    "# Top indian players\n",
    "\n",
    "top_indians = ipl.loc[(ipl['Team'] != 'NO TEAM') & (ipl['Nationality'] == 'Indian')].sort_values('Total Price', ascending = False).head(10)\n",
    "top_indians[['Players', 'Type', 'Price Paid', 'Team']]"
   ]
  },
  {
   "cell_type": "code",
   "execution_count": 40,
   "id": "a090405f",
   "metadata": {},
   "outputs": [
    {
     "data": {
      "text/plain": [
       "Text(0, 0.5, 'Amount')"
      ]
     },
     "execution_count": 40,
     "metadata": {},
     "output_type": "execute_result"
    },
    {
     "data": {
      "image/png": "[encoded data removed]",
      "text/plain": [
       "<Figure size 1440x720 with 1 Axes>"
      ]
     },
     "metadata": {
      "needs_background": "light"
     },
     "output_type": "display_data"
    }
   ],
   "source": [
    "plt.figure(figsize=(20,10))\n",
    "plt.bar(top_indians['Players'], top_indians['Total Price'], color = 'blue')\n",
    "plt.title('Top 10 Indian Players', fontsize = 15)\n",
    "plt.xlabel('Name')\n",
    "plt.ylabel('Amount')"
   ]
  },
  {
   "cell_type": "code",
   "execution_count": 41,
   "id": "23afa4b3",
   "metadata": {
    "scrolled": true
   },
   "outputs": [
    {
     "data": {
      "text/html": [
       "<div>\n",
       "<style scoped>\n",
       "    .dataframe tbody tr th:only-of-type {\n",
       "        vertical-align: middle;\n",
       "    }\n",
       "\n",
       "    .dataframe tbody tr th {\n",
       "        vertical-align: top;\n",
       "    }\n",
       "\n",
       "    .dataframe thead th {\n",
       "        text-align: right;\n",
       "    }\n",
       "</style>\n",
       "<table border=\"1\" class=\"dataframe\">\n",
       "  <thead>\n",
       "    <tr style=\"text-align: right;\">\n",
       "      <th></th>\n",
       "      <th>Players</th>\n",
       "      <th>Type</th>\n",
       "      <th>Price Paid</th>\n",
       "      <th>Team</th>\n",
       "    </tr>\n",
       "  </thead>\n",
       "  <tbody>\n",
       "    <tr>\n",
       "      <th>130</th>\n",
       "      <td>Liam Livingstone</td>\n",
       "      <td>All-Rounder</td>\n",
       "      <td>₹11,50,00,000</td>\n",
       "      <td>PK</td>\n",
       "    </tr>\n",
       "    <tr>\n",
       "      <th>185</th>\n",
       "      <td>Nicholas Pooran</td>\n",
       "      <td>Wicket Keeper</td>\n",
       "      <td>₹10,75,00,000</td>\n",
       "      <td>SRH</td>\n",
       "    </tr>\n",
       "    <tr>\n",
       "      <th>166</th>\n",
       "      <td>Wanindu Hasaranga</td>\n",
       "      <td>All-Rounder</td>\n",
       "      <td>₹10,75,00,000</td>\n",
       "      <td>RCB</td>\n",
       "    </tr>\n",
       "    <tr>\n",
       "      <th>46</th>\n",
       "      <td>Lockie Ferguson</td>\n",
       "      <td>Bowler</td>\n",
       "      <td>₹10,00,00,000</td>\n",
       "      <td>GT</td>\n",
       "    </tr>\n",
       "    <tr>\n",
       "      <th>122</th>\n",
       "      <td>Kagiso Rabada</td>\n",
       "      <td>Bowler</td>\n",
       "      <td>₹9,25,00,000</td>\n",
       "      <td>PK</td>\n",
       "    </tr>\n",
       "    <tr>\n",
       "      <th>84</th>\n",
       "      <td>Jason Holder</td>\n",
       "      <td>All-Rounder</td>\n",
       "      <td>₹8,75,00,000</td>\n",
       "      <td>LSG</td>\n",
       "    </tr>\n",
       "    <tr>\n",
       "      <th>146</th>\n",
       "      <td>Shimron Hetmyer</td>\n",
       "      <td>Batsman</td>\n",
       "      <td>₹8,50,00,000</td>\n",
       "      <td>RR</td>\n",
       "    </tr>\n",
       "    <tr>\n",
       "      <th>112</th>\n",
       "      <td>Tim David</td>\n",
       "      <td>All-Rounder</td>\n",
       "      <td>₹8,25,00,000</td>\n",
       "      <td>MI</td>\n",
       "    </tr>\n",
       "    <tr>\n",
       "      <th>109</th>\n",
       "      <td>Jofra Archer</td>\n",
       "      <td>All-Rounder</td>\n",
       "      <td>₹8,00,00,000</td>\n",
       "      <td>MI</td>\n",
       "    </tr>\n",
       "    <tr>\n",
       "      <th>145</th>\n",
       "      <td>Trent Boult</td>\n",
       "      <td>Bowler</td>\n",
       "      <td>₹8,00,00,000</td>\n",
       "      <td>RR</td>\n",
       "    </tr>\n",
       "  </tbody>\n",
       "</table>\n",
       "</div>"
      ],
      "text/plain": [
       "               Players           Type     Price Paid Team\n",
       "130   Liam Livingstone    All-Rounder  ₹11,50,00,000   PK\n",
       "185    Nicholas Pooran  Wicket Keeper  ₹10,75,00,000  SRH\n",
       "166  Wanindu Hasaranga    All-Rounder  ₹10,75,00,000  RCB\n",
       "46     Lockie Ferguson         Bowler  ₹10,00,00,000   GT\n",
       "122      Kagiso Rabada         Bowler   ₹9,25,00,000   PK\n",
       "84        Jason Holder    All-Rounder   ₹8,75,00,000  LSG\n",
       "146    Shimron Hetmyer        Batsman   ₹8,50,00,000   RR\n",
       "112          Tim David    All-Rounder   ₹8,25,00,000   MI\n",
       "109       Jofra Archer    All-Rounder   ₹8,00,00,000   MI\n",
       "145        Trent Boult         Bowler   ₹8,00,00,000   RR"
      ]
     },
     "execution_count": 41,
     "metadata": {},
     "output_type": "execute_result"
    }
   ],
   "source": [
    "# Top overseas players\n",
    "\n",
    "top_overseas = ipl.loc[(ipl['Team'] != 'NO TEAM') & (ipl['Nationality'] == 'Overseas')].sort_values('Total Price', ascending = False).head(10)\n",
    "top_overseas[['Players', 'Type', 'Price Paid', 'Team']]"
   ]
  },
  {
   "cell_type": "code",
   "execution_count": 42,
   "id": "a95c3833",
   "metadata": {
    "scrolled": false
   },
   "outputs": [
    {
     "data": {
      "text/plain": [
       "Text(0, 0.5, 'Amount')"
      ]
     },
     "execution_count": 42,
     "metadata": {},
     "output_type": "execute_result"
    },
    {
     "data": {
      "image/png": "[encoded data removed]",
      "text/plain": [
       "<Figure size 1440x720 with 1 Axes>"
      ]
     },
     "metadata": {
      "needs_background": "light"
     },
     "output_type": "display_data"
    }
   ],
   "source": [
    "plt.figure(figsize=(20,10))\n",
    "plt.bar(top_overseas['Players'], top_overseas['Total Price'], color = 'Yellow')\n",
    "plt.title('Top 10 Overseas Players', fontsize = 15)\n",
    "plt.xlabel('Name')\n",
    "plt.ylabel('Amount')"
   ]
  },
  {
   "cell_type": "code",
   "execution_count": null,
   "id": "88b66da2",
   "metadata": {},
   "outputs": [],
   "source": []
  }
 ],
 "metadata": {
  "kernelspec": {
   "display_name": "Python 3 (ipykernel)",
   "language": "python",
   "name": "python3"
  },
  "language_info": {
   "codemirror_mode": {
    "name": "ipython",
    "version": 3
   },
   "file_extension": ".py",
   "mimetype": "text/x-python",
   "name": "python",
   "nbconvert_exporter": "python",
   "pygments_lexer": "ipython3",
   "version": "3.10.2"
  }
 },
 "nbformat": 4,
 "nbformat_minor": 5
}
